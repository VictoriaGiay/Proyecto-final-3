{
  "cells": [
    {
      "cell_type": "markdown",
      "metadata": {
        "id": "-P58FmSs--NL"
      },
      "source": [
        "# ***Proyecto final***\n",
        "\n",
        "*Encuesta satisfaccion de clientes de una aerolinea*\n",
        "\n",
        "---\n",
        "\n"
      ]
    },
    {
      "cell_type": "code",
      "execution_count": null,
      "metadata": {
        "id": "R5JVBGPy-_KB"
      },
      "outputs": [],
      "source": [
        "# Importacion de las librerias\n",
        "import pandas as pd\n",
        "import numpy as np\n",
        "from matplotlib import pyplot as plt\n",
        "import seaborn as sns"
      ]
    },
    {
      "cell_type": "code",
      "execution_count": null,
      "metadata": {
        "id": "MQP6dFzu5Rq9",
        "colab": {
          "base_uri": "https://localhost:8080/",
          "height": 341
        },
        "outputId": "5a2bda2b-3741-45d0-d518-6900263239c9"
      },
      "outputs": [
        {
          "output_type": "execute_result",
          "data": {
            "text/plain": [
              "   Unnamed: 0     id  Gender      Customer Type  Age   Type of Travel  \\\n",
              "0           0  19556  Female     Loyal Customer   52  Business travel   \n",
              "1           1  90035  Female     Loyal Customer   36  Business travel   \n",
              "2           2  12360    Male  disloyal Customer   20  Business travel   \n",
              "\n",
              "      Class  Flight Distance  Inflight wifi service  \\\n",
              "0       Eco              160                      5   \n",
              "1  Business             2863                      1   \n",
              "2       Eco              192                      2   \n",
              "\n",
              "   Departure/Arrival time convenient  ...  Inflight entertainment  \\\n",
              "0                                  4  ...                       5   \n",
              "1                                  1  ...                       4   \n",
              "2                                  0  ...                       2   \n",
              "\n",
              "   On-board service  Leg room service  Baggage handling  Checkin service  \\\n",
              "0                 5                 5                 5                2   \n",
              "1                 4                 4                 4                3   \n",
              "2                 4                 1                 3                2   \n",
              "\n",
              "   Inflight service  Cleanliness  Departure Delay in Minutes  \\\n",
              "0                 5            5                          50   \n",
              "1                 4            5                           0   \n",
              "2                 2            2                           0   \n",
              "\n",
              "   Arrival Delay in Minutes             satisfaction  \n",
              "0                      44.0                satisfied  \n",
              "1                       0.0                satisfied  \n",
              "2                       0.0  neutral or dissatisfied  \n",
              "\n",
              "[3 rows x 25 columns]"
            ],
            "text/html": [
              "\n",
              "  <div id=\"df-31efd0c2-0aae-4488-aa21-1ab3b650c60c\">\n",
              "    <div class=\"colab-df-container\">\n",
              "      <div>\n",
              "<style scoped>\n",
              "    .dataframe tbody tr th:only-of-type {\n",
              "        vertical-align: middle;\n",
              "    }\n",
              "\n",
              "    .dataframe tbody tr th {\n",
              "        vertical-align: top;\n",
              "    }\n",
              "\n",
              "    .dataframe thead th {\n",
              "        text-align: right;\n",
              "    }\n",
              "</style>\n",
              "<table border=\"1\" class=\"dataframe\">\n",
              "  <thead>\n",
              "    <tr style=\"text-align: right;\">\n",
              "      <th></th>\n",
              "      <th>Unnamed: 0</th>\n",
              "      <th>id</th>\n",
              "      <th>Gender</th>\n",
              "      <th>Customer Type</th>\n",
              "      <th>Age</th>\n",
              "      <th>Type of Travel</th>\n",
              "      <th>Class</th>\n",
              "      <th>Flight Distance</th>\n",
              "      <th>Inflight wifi service</th>\n",
              "      <th>Departure/Arrival time convenient</th>\n",
              "      <th>...</th>\n",
              "      <th>Inflight entertainment</th>\n",
              "      <th>On-board service</th>\n",
              "      <th>Leg room service</th>\n",
              "      <th>Baggage handling</th>\n",
              "      <th>Checkin service</th>\n",
              "      <th>Inflight service</th>\n",
              "      <th>Cleanliness</th>\n",
              "      <th>Departure Delay in Minutes</th>\n",
              "      <th>Arrival Delay in Minutes</th>\n",
              "      <th>satisfaction</th>\n",
              "    </tr>\n",
              "  </thead>\n",
              "  <tbody>\n",
              "    <tr>\n",
              "      <th>0</th>\n",
              "      <td>0</td>\n",
              "      <td>19556</td>\n",
              "      <td>Female</td>\n",
              "      <td>Loyal Customer</td>\n",
              "      <td>52</td>\n",
              "      <td>Business travel</td>\n",
              "      <td>Eco</td>\n",
              "      <td>160</td>\n",
              "      <td>5</td>\n",
              "      <td>4</td>\n",
              "      <td>...</td>\n",
              "      <td>5</td>\n",
              "      <td>5</td>\n",
              "      <td>5</td>\n",
              "      <td>5</td>\n",
              "      <td>2</td>\n",
              "      <td>5</td>\n",
              "      <td>5</td>\n",
              "      <td>50</td>\n",
              "      <td>44.0</td>\n",
              "      <td>satisfied</td>\n",
              "    </tr>\n",
              "    <tr>\n",
              "      <th>1</th>\n",
              "      <td>1</td>\n",
              "      <td>90035</td>\n",
              "      <td>Female</td>\n",
              "      <td>Loyal Customer</td>\n",
              "      <td>36</td>\n",
              "      <td>Business travel</td>\n",
              "      <td>Business</td>\n",
              "      <td>2863</td>\n",
              "      <td>1</td>\n",
              "      <td>1</td>\n",
              "      <td>...</td>\n",
              "      <td>4</td>\n",
              "      <td>4</td>\n",
              "      <td>4</td>\n",
              "      <td>4</td>\n",
              "      <td>3</td>\n",
              "      <td>4</td>\n",
              "      <td>5</td>\n",
              "      <td>0</td>\n",
              "      <td>0.0</td>\n",
              "      <td>satisfied</td>\n",
              "    </tr>\n",
              "    <tr>\n",
              "      <th>2</th>\n",
              "      <td>2</td>\n",
              "      <td>12360</td>\n",
              "      <td>Male</td>\n",
              "      <td>disloyal Customer</td>\n",
              "      <td>20</td>\n",
              "      <td>Business travel</td>\n",
              "      <td>Eco</td>\n",
              "      <td>192</td>\n",
              "      <td>2</td>\n",
              "      <td>0</td>\n",
              "      <td>...</td>\n",
              "      <td>2</td>\n",
              "      <td>4</td>\n",
              "      <td>1</td>\n",
              "      <td>3</td>\n",
              "      <td>2</td>\n",
              "      <td>2</td>\n",
              "      <td>2</td>\n",
              "      <td>0</td>\n",
              "      <td>0.0</td>\n",
              "      <td>neutral or dissatisfied</td>\n",
              "    </tr>\n",
              "  </tbody>\n",
              "</table>\n",
              "<p>3 rows × 25 columns</p>\n",
              "</div>\n",
              "      <button class=\"colab-df-convert\" onclick=\"convertToInteractive('df-31efd0c2-0aae-4488-aa21-1ab3b650c60c')\"\n",
              "              title=\"Convert this dataframe to an interactive table.\"\n",
              "              style=\"display:none;\">\n",
              "        \n",
              "  <svg xmlns=\"http://www.w3.org/2000/svg\" height=\"24px\"viewBox=\"0 0 24 24\"\n",
              "       width=\"24px\">\n",
              "    <path d=\"M0 0h24v24H0V0z\" fill=\"none\"/>\n",
              "    <path d=\"M18.56 5.44l.94 2.06.94-2.06 2.06-.94-2.06-.94-.94-2.06-.94 2.06-2.06.94zm-11 1L8.5 8.5l.94-2.06 2.06-.94-2.06-.94L8.5 2.5l-.94 2.06-2.06.94zm10 10l.94 2.06.94-2.06 2.06-.94-2.06-.94-.94-2.06-.94 2.06-2.06.94z\"/><path d=\"M17.41 7.96l-1.37-1.37c-.4-.4-.92-.59-1.43-.59-.52 0-1.04.2-1.43.59L10.3 9.45l-7.72 7.72c-.78.78-.78 2.05 0 2.83L4 21.41c.39.39.9.59 1.41.59.51 0 1.02-.2 1.41-.59l7.78-7.78 2.81-2.81c.8-.78.8-2.07 0-2.86zM5.41 20L4 18.59l7.72-7.72 1.47 1.35L5.41 20z\"/>\n",
              "  </svg>\n",
              "      </button>\n",
              "      \n",
              "  <style>\n",
              "    .colab-df-container {\n",
              "      display:flex;\n",
              "      flex-wrap:wrap;\n",
              "      gap: 12px;\n",
              "    }\n",
              "\n",
              "    .colab-df-convert {\n",
              "      background-color: #E8F0FE;\n",
              "      border: none;\n",
              "      border-radius: 50%;\n",
              "      cursor: pointer;\n",
              "      display: none;\n",
              "      fill: #1967D2;\n",
              "      height: 32px;\n",
              "      padding: 0 0 0 0;\n",
              "      width: 32px;\n",
              "    }\n",
              "\n",
              "    .colab-df-convert:hover {\n",
              "      background-color: #E2EBFA;\n",
              "      box-shadow: 0px 1px 2px rgba(60, 64, 67, 0.3), 0px 1px 3px 1px rgba(60, 64, 67, 0.15);\n",
              "      fill: #174EA6;\n",
              "    }\n",
              "\n",
              "    [theme=dark] .colab-df-convert {\n",
              "      background-color: #3B4455;\n",
              "      fill: #D2E3FC;\n",
              "    }\n",
              "\n",
              "    [theme=dark] .colab-df-convert:hover {\n",
              "      background-color: #434B5C;\n",
              "      box-shadow: 0px 1px 3px 1px rgba(0, 0, 0, 0.15);\n",
              "      filter: drop-shadow(0px 1px 2px rgba(0, 0, 0, 0.3));\n",
              "      fill: #FFFFFF;\n",
              "    }\n",
              "  </style>\n",
              "\n",
              "      <script>\n",
              "        const buttonEl =\n",
              "          document.querySelector('#df-31efd0c2-0aae-4488-aa21-1ab3b650c60c button.colab-df-convert');\n",
              "        buttonEl.style.display =\n",
              "          google.colab.kernel.accessAllowed ? 'block' : 'none';\n",
              "\n",
              "        async function convertToInteractive(key) {\n",
              "          const element = document.querySelector('#df-31efd0c2-0aae-4488-aa21-1ab3b650c60c');\n",
              "          const dataTable =\n",
              "            await google.colab.kernel.invokeFunction('convertToInteractive',\n",
              "                                                     [key], {});\n",
              "          if (!dataTable) return;\n",
              "\n",
              "          const docLinkHtml = 'Like what you see? Visit the ' +\n",
              "            '<a target=\"_blank\" href=https://colab.research.google.com/notebooks/data_table.ipynb>data table notebook</a>'\n",
              "            + ' to learn more about interactive tables.';\n",
              "          element.innerHTML = '';\n",
              "          dataTable['output_type'] = 'display_data';\n",
              "          await google.colab.output.renderOutput(dataTable, element);\n",
              "          const docLink = document.createElement('div');\n",
              "          docLink.innerHTML = docLinkHtml;\n",
              "          element.appendChild(docLink);\n",
              "        }\n",
              "      </script>\n",
              "    </div>\n",
              "  </div>\n",
              "  "
            ]
          },
          "metadata": {},
          "execution_count": 2
        }
      ],
      "source": [
        "# Lectura del archivo\n",
        "df = pd.read_csv(\"/content/Encuesta satisfaccion aerolinea.csv\", sep=';')\n",
        "\n",
        "# Visualizacion de las 3 primeras filas del archivo\n",
        "df.head(3)"
      ]
    },
    {
      "cell_type": "code",
      "source": [
        "#Eljo una paleta de colores predeterminada\n",
        "color = 'Spectral_r' # set palette color (from PALETTE_COLOR)\n",
        "sns.set_palette(color) # set palette"
      ],
      "metadata": {
        "id": "6kwRv8cFvhj-"
      },
      "execution_count": null,
      "outputs": []
    },
    {
      "cell_type": "markdown",
      "metadata": {
        "id": "IQCBiyBv7i4F"
      },
      "source": [
        "# ***Data Wrangling***\n",
        "*Información de la base de datos*\n",
        "\n",
        "---"
      ]
    },
    {
      "cell_type": "code",
      "execution_count": null,
      "metadata": {
        "id": "Iycsc4wZ5TuF"
      },
      "outputs": [],
      "source": [
        "# Tamaño del archivo\n",
        "print('El archivo tiene ' + str(df.shape[0]) + ' filas y ' + str(df.shape[1]) + ' columnas')"
      ]
    },
    {
      "cell_type": "code",
      "execution_count": null,
      "metadata": {
        "id": "8RK1ObZ15XK5"
      },
      "outputs": [],
      "source": [
        "# Identificacion de tipos de variables y el recuento de no nulos \n",
        "df.info()"
      ]
    },
    {
      "cell_type": "code",
      "execution_count": null,
      "metadata": {
        "id": "EkhHh06v8ikY"
      },
      "outputs": [],
      "source": [
        "# Visualizacion de las columnas\n",
        "df.columns"
      ]
    },
    {
      "cell_type": "code",
      "execution_count": null,
      "metadata": {
        "id": "yinfi_Q_89NQ",
        "colab": {
          "base_uri": "https://localhost:8080/",
          "height": 326
        },
        "outputId": "0cdbf4ba-8713-49e8-e7f7-d728f800c930"
      },
      "outputs": [
        {
          "output_type": "execute_result",
          "data": {
            "text/plain": [
              "       Gender      Customer Type  Age   Type of Travel     Class  \\\n",
              "id                                                                 \n",
              "19556  Female     Loyal Customer   52  Business travel       Eco   \n",
              "90035  Female     Loyal Customer   36  Business travel  Business   \n",
              "12360    Male  disloyal Customer   20  Business travel       Eco   \n",
              "\n",
              "       Flight Distance  Inflight wifi service  Ease of Online booking  \\\n",
              "id                                                                      \n",
              "19556              160                      5                       3   \n",
              "90035             2863                      1                       3   \n",
              "12360              192                      2                       2   \n",
              "\n",
              "       Gate location  Food and drink  Online boarding  Seat comfort  \\\n",
              "id                                                                    \n",
              "19556              4               3                4             3   \n",
              "90035              1               5                4             5   \n",
              "12360              4               2                2             2   \n",
              "\n",
              "       Inflight entertainment  On-board service  Seat space  Baggage handling  \\\n",
              "id                                                                              \n",
              "19556                       5                 5           5                 5   \n",
              "90035                       4                 4           4                 4   \n",
              "12360                       2                 4           1                 3   \n",
              "\n",
              "       Checkin service  Inflight service  Cleanliness             satisfaction  \n",
              "id                                                                              \n",
              "19556                2                 5            5                satisfied  \n",
              "90035                3                 4            5                satisfied  \n",
              "12360                2                 2            2  neutral or dissatisfied  "
            ],
            "text/html": [
              "\n",
              "  <div id=\"df-a6037564-110a-4c5a-9397-2364efe15284\">\n",
              "    <div class=\"colab-df-container\">\n",
              "      <div>\n",
              "<style scoped>\n",
              "    .dataframe tbody tr th:only-of-type {\n",
              "        vertical-align: middle;\n",
              "    }\n",
              "\n",
              "    .dataframe tbody tr th {\n",
              "        vertical-align: top;\n",
              "    }\n",
              "\n",
              "    .dataframe thead th {\n",
              "        text-align: right;\n",
              "    }\n",
              "</style>\n",
              "<table border=\"1\" class=\"dataframe\">\n",
              "  <thead>\n",
              "    <tr style=\"text-align: right;\">\n",
              "      <th></th>\n",
              "      <th>Gender</th>\n",
              "      <th>Customer Type</th>\n",
              "      <th>Age</th>\n",
              "      <th>Type of Travel</th>\n",
              "      <th>Class</th>\n",
              "      <th>Flight Distance</th>\n",
              "      <th>Inflight wifi service</th>\n",
              "      <th>Ease of Online booking</th>\n",
              "      <th>Gate location</th>\n",
              "      <th>Food and drink</th>\n",
              "      <th>Online boarding</th>\n",
              "      <th>Seat comfort</th>\n",
              "      <th>Inflight entertainment</th>\n",
              "      <th>On-board service</th>\n",
              "      <th>Seat space</th>\n",
              "      <th>Baggage handling</th>\n",
              "      <th>Checkin service</th>\n",
              "      <th>Inflight service</th>\n",
              "      <th>Cleanliness</th>\n",
              "      <th>satisfaction</th>\n",
              "    </tr>\n",
              "    <tr>\n",
              "      <th>id</th>\n",
              "      <th></th>\n",
              "      <th></th>\n",
              "      <th></th>\n",
              "      <th></th>\n",
              "      <th></th>\n",
              "      <th></th>\n",
              "      <th></th>\n",
              "      <th></th>\n",
              "      <th></th>\n",
              "      <th></th>\n",
              "      <th></th>\n",
              "      <th></th>\n",
              "      <th></th>\n",
              "      <th></th>\n",
              "      <th></th>\n",
              "      <th></th>\n",
              "      <th></th>\n",
              "      <th></th>\n",
              "      <th></th>\n",
              "      <th></th>\n",
              "    </tr>\n",
              "  </thead>\n",
              "  <tbody>\n",
              "    <tr>\n",
              "      <th>19556</th>\n",
              "      <td>Female</td>\n",
              "      <td>Loyal Customer</td>\n",
              "      <td>52</td>\n",
              "      <td>Business travel</td>\n",
              "      <td>Eco</td>\n",
              "      <td>160</td>\n",
              "      <td>5</td>\n",
              "      <td>3</td>\n",
              "      <td>4</td>\n",
              "      <td>3</td>\n",
              "      <td>4</td>\n",
              "      <td>3</td>\n",
              "      <td>5</td>\n",
              "      <td>5</td>\n",
              "      <td>5</td>\n",
              "      <td>5</td>\n",
              "      <td>2</td>\n",
              "      <td>5</td>\n",
              "      <td>5</td>\n",
              "      <td>satisfied</td>\n",
              "    </tr>\n",
              "    <tr>\n",
              "      <th>90035</th>\n",
              "      <td>Female</td>\n",
              "      <td>Loyal Customer</td>\n",
              "      <td>36</td>\n",
              "      <td>Business travel</td>\n",
              "      <td>Business</td>\n",
              "      <td>2863</td>\n",
              "      <td>1</td>\n",
              "      <td>3</td>\n",
              "      <td>1</td>\n",
              "      <td>5</td>\n",
              "      <td>4</td>\n",
              "      <td>5</td>\n",
              "      <td>4</td>\n",
              "      <td>4</td>\n",
              "      <td>4</td>\n",
              "      <td>4</td>\n",
              "      <td>3</td>\n",
              "      <td>4</td>\n",
              "      <td>5</td>\n",
              "      <td>satisfied</td>\n",
              "    </tr>\n",
              "    <tr>\n",
              "      <th>12360</th>\n",
              "      <td>Male</td>\n",
              "      <td>disloyal Customer</td>\n",
              "      <td>20</td>\n",
              "      <td>Business travel</td>\n",
              "      <td>Eco</td>\n",
              "      <td>192</td>\n",
              "      <td>2</td>\n",
              "      <td>2</td>\n",
              "      <td>4</td>\n",
              "      <td>2</td>\n",
              "      <td>2</td>\n",
              "      <td>2</td>\n",
              "      <td>2</td>\n",
              "      <td>4</td>\n",
              "      <td>1</td>\n",
              "      <td>3</td>\n",
              "      <td>2</td>\n",
              "      <td>2</td>\n",
              "      <td>2</td>\n",
              "      <td>neutral or dissatisfied</td>\n",
              "    </tr>\n",
              "  </tbody>\n",
              "</table>\n",
              "</div>\n",
              "      <button class=\"colab-df-convert\" onclick=\"convertToInteractive('df-a6037564-110a-4c5a-9397-2364efe15284')\"\n",
              "              title=\"Convert this dataframe to an interactive table.\"\n",
              "              style=\"display:none;\">\n",
              "        \n",
              "  <svg xmlns=\"http://www.w3.org/2000/svg\" height=\"24px\"viewBox=\"0 0 24 24\"\n",
              "       width=\"24px\">\n",
              "    <path d=\"M0 0h24v24H0V0z\" fill=\"none\"/>\n",
              "    <path d=\"M18.56 5.44l.94 2.06.94-2.06 2.06-.94-2.06-.94-.94-2.06-.94 2.06-2.06.94zm-11 1L8.5 8.5l.94-2.06 2.06-.94-2.06-.94L8.5 2.5l-.94 2.06-2.06.94zm10 10l.94 2.06.94-2.06 2.06-.94-2.06-.94-.94-2.06-.94 2.06-2.06.94z\"/><path d=\"M17.41 7.96l-1.37-1.37c-.4-.4-.92-.59-1.43-.59-.52 0-1.04.2-1.43.59L10.3 9.45l-7.72 7.72c-.78.78-.78 2.05 0 2.83L4 21.41c.39.39.9.59 1.41.59.51 0 1.02-.2 1.41-.59l7.78-7.78 2.81-2.81c.8-.78.8-2.07 0-2.86zM5.41 20L4 18.59l7.72-7.72 1.47 1.35L5.41 20z\"/>\n",
              "  </svg>\n",
              "      </button>\n",
              "      \n",
              "  <style>\n",
              "    .colab-df-container {\n",
              "      display:flex;\n",
              "      flex-wrap:wrap;\n",
              "      gap: 12px;\n",
              "    }\n",
              "\n",
              "    .colab-df-convert {\n",
              "      background-color: #E8F0FE;\n",
              "      border: none;\n",
              "      border-radius: 50%;\n",
              "      cursor: pointer;\n",
              "      display: none;\n",
              "      fill: #1967D2;\n",
              "      height: 32px;\n",
              "      padding: 0 0 0 0;\n",
              "      width: 32px;\n",
              "    }\n",
              "\n",
              "    .colab-df-convert:hover {\n",
              "      background-color: #E2EBFA;\n",
              "      box-shadow: 0px 1px 2px rgba(60, 64, 67, 0.3), 0px 1px 3px 1px rgba(60, 64, 67, 0.15);\n",
              "      fill: #174EA6;\n",
              "    }\n",
              "\n",
              "    [theme=dark] .colab-df-convert {\n",
              "      background-color: #3B4455;\n",
              "      fill: #D2E3FC;\n",
              "    }\n",
              "\n",
              "    [theme=dark] .colab-df-convert:hover {\n",
              "      background-color: #434B5C;\n",
              "      box-shadow: 0px 1px 3px 1px rgba(0, 0, 0, 0.15);\n",
              "      filter: drop-shadow(0px 1px 2px rgba(0, 0, 0, 0.3));\n",
              "      fill: #FFFFFF;\n",
              "    }\n",
              "  </style>\n",
              "\n",
              "      <script>\n",
              "        const buttonEl =\n",
              "          document.querySelector('#df-a6037564-110a-4c5a-9397-2364efe15284 button.colab-df-convert');\n",
              "        buttonEl.style.display =\n",
              "          google.colab.kernel.accessAllowed ? 'block' : 'none';\n",
              "\n",
              "        async function convertToInteractive(key) {\n",
              "          const element = document.querySelector('#df-a6037564-110a-4c5a-9397-2364efe15284');\n",
              "          const dataTable =\n",
              "            await google.colab.kernel.invokeFunction('convertToInteractive',\n",
              "                                                     [key], {});\n",
              "          if (!dataTable) return;\n",
              "\n",
              "          const docLinkHtml = 'Like what you see? Visit the ' +\n",
              "            '<a target=\"_blank\" href=https://colab.research.google.com/notebooks/data_table.ipynb>data table notebook</a>'\n",
              "            + ' to learn more about interactive tables.';\n",
              "          element.innerHTML = '';\n",
              "          dataTable['output_type'] = 'display_data';\n",
              "          await google.colab.output.renderOutput(dataTable, element);\n",
              "          const docLink = document.createElement('div');\n",
              "          docLink.innerHTML = docLinkHtml;\n",
              "          element.appendChild(docLink);\n",
              "        }\n",
              "      </script>\n",
              "    </div>\n",
              "  </div>\n",
              "  "
            ]
          },
          "metadata": {},
          "execution_count": 4
        }
      ],
      "source": [
        "# Eliminacion de los campos indispensables y renombre de la columna Leg room service\n",
        "df = df.drop(['Unnamed: 0', 'Departure Delay in Minutes', 'Arrival Delay in Minutes', 'Departure/Arrival time convenient'], axis=1)\n",
        "df = df.set_index('id', drop=True, append=False, inplace=False) #Pongo el id como indice\n",
        "df.rename(columns={'Leg room service':'Seat space'}, inplace=True) #Cambio los nombres de las columnas\n",
        "df.head(3)"
      ]
    },
    {
      "cell_type": "code",
      "execution_count": null,
      "metadata": {
        "id": "oLgiRxp5CKGL",
        "colab": {
          "base_uri": "https://localhost:8080/"
        },
        "outputId": "cb25bf0a-b90a-4f52-ba38-2630982da71d"
      },
      "outputs": [
        {
          "output_type": "stream",
          "name": "stdout",
          "text": [
            "Index(['Gender', 'Customer Type', 'Age', 'Type of Travel', 'Class',\n",
            "       'Flight Distance', 'Inflight wifi service', 'Ease of Online booking',\n",
            "       'Gate location', 'Food and drink', 'Online boarding', 'Seat comfort',\n",
            "       'Inflight entertainment', 'On-board service', 'Seat space',\n",
            "       'Baggage handling', 'Checkin service', 'Inflight service',\n",
            "       'Cleanliness', 'satisfaction'],\n",
            "      dtype='object')\n",
            "\n",
            "El archivo tiene 25976 filas y 20 columnas\n"
          ]
        }
      ],
      "source": [
        "# Visualizacion de las columnas del nuevo data frame\n",
        "print(df.columns)\n",
        "print('')\n",
        "print('El archivo tiene ' + str(df.shape[0]) + ' filas y ' + str(df.shape[1]) + ' columnas')"
      ]
    },
    {
      "cell_type": "code",
      "execution_count": null,
      "metadata": {
        "id": "rsAA88095e9Y"
      },
      "outputs": [],
      "source": [
        "# Revision de valores misssings o nulos \n",
        "df.isnull().sum()"
      ]
    },
    {
      "cell_type": "code",
      "execution_count": null,
      "metadata": {
        "id": "9IrEaaeP5Ymf"
      },
      "outputs": [],
      "source": [
        "# Agrupacion de campos por tipo de dato\n",
        "col_numerica = ['Age', 'Flight Distance', 'Inflight wifi service', 'Ease of Online booking',\n",
        "'Gate location', 'Food and drink', 'Online boarding', 'Seat comfort','Inflight entertainment', 'On-board service', 'Seat space', \n",
        "'Baggage handling', 'Checkin service', 'Inflight service', 'Cleanliness']\n",
        "\n",
        "col_categorica = ['Gender', 'Customer Type', 'Type of Travel','Class','satisfaction']\n",
        "\n",
        "variables= ['Inflight wifi service', 'Ease of Online booking', 'Gate location','Food and drink', 'Online boarding','Seat comfort','Inflight entertainment',  \n",
        "'On-board service', 'Seat space', 'Baggage handling','Checkin service', 'Inflight service', 'Cleanliness'] # Se asignan todos los campos requeridos a una unica variable"
      ]
    },
    {
      "cell_type": "code",
      "execution_count": null,
      "metadata": {
        "id": "HBIqifMJ5ai3"
      },
      "outputs": [],
      "source": [
        "# Descripcion de las variables numericas\n",
        "df[col_numerica].describe().T"
      ]
    },
    {
      "cell_type": "code",
      "execution_count": null,
      "metadata": {
        "id": "h0mFks5o5cXf",
        "colab": {
          "base_uri": "https://localhost:8080/",
          "height": 206
        },
        "outputId": "66d3ecbf-fff9-46b1-e6b4-82909e555d0d"
      },
      "outputs": [
        {
          "output_type": "execute_result",
          "data": {
            "text/plain": [
              "                count unique                      top   freq\n",
              "Gender          25976      2                   Female  13172\n",
              "Customer Type   25976      2           Loyal Customer  21177\n",
              "Type of Travel  25976      2          Business travel  18038\n",
              "Class           25976      3                 Business  12495\n",
              "satisfaction    25976      2  neutral or dissatisfied  14573"
            ],
            "text/html": [
              "\n",
              "  <div id=\"df-219d6919-68ba-4c50-be65-72e1f9686cf5\">\n",
              "    <div class=\"colab-df-container\">\n",
              "      <div>\n",
              "<style scoped>\n",
              "    .dataframe tbody tr th:only-of-type {\n",
              "        vertical-align: middle;\n",
              "    }\n",
              "\n",
              "    .dataframe tbody tr th {\n",
              "        vertical-align: top;\n",
              "    }\n",
              "\n",
              "    .dataframe thead th {\n",
              "        text-align: right;\n",
              "    }\n",
              "</style>\n",
              "<table border=\"1\" class=\"dataframe\">\n",
              "  <thead>\n",
              "    <tr style=\"text-align: right;\">\n",
              "      <th></th>\n",
              "      <th>count</th>\n",
              "      <th>unique</th>\n",
              "      <th>top</th>\n",
              "      <th>freq</th>\n",
              "    </tr>\n",
              "  </thead>\n",
              "  <tbody>\n",
              "    <tr>\n",
              "      <th>Gender</th>\n",
              "      <td>25976</td>\n",
              "      <td>2</td>\n",
              "      <td>Female</td>\n",
              "      <td>13172</td>\n",
              "    </tr>\n",
              "    <tr>\n",
              "      <th>Customer Type</th>\n",
              "      <td>25976</td>\n",
              "      <td>2</td>\n",
              "      <td>Loyal Customer</td>\n",
              "      <td>21177</td>\n",
              "    </tr>\n",
              "    <tr>\n",
              "      <th>Type of Travel</th>\n",
              "      <td>25976</td>\n",
              "      <td>2</td>\n",
              "      <td>Business travel</td>\n",
              "      <td>18038</td>\n",
              "    </tr>\n",
              "    <tr>\n",
              "      <th>Class</th>\n",
              "      <td>25976</td>\n",
              "      <td>3</td>\n",
              "      <td>Business</td>\n",
              "      <td>12495</td>\n",
              "    </tr>\n",
              "    <tr>\n",
              "      <th>satisfaction</th>\n",
              "      <td>25976</td>\n",
              "      <td>2</td>\n",
              "      <td>neutral or dissatisfied</td>\n",
              "      <td>14573</td>\n",
              "    </tr>\n",
              "  </tbody>\n",
              "</table>\n",
              "</div>\n",
              "      <button class=\"colab-df-convert\" onclick=\"convertToInteractive('df-219d6919-68ba-4c50-be65-72e1f9686cf5')\"\n",
              "              title=\"Convert this dataframe to an interactive table.\"\n",
              "              style=\"display:none;\">\n",
              "        \n",
              "  <svg xmlns=\"http://www.w3.org/2000/svg\" height=\"24px\"viewBox=\"0 0 24 24\"\n",
              "       width=\"24px\">\n",
              "    <path d=\"M0 0h24v24H0V0z\" fill=\"none\"/>\n",
              "    <path d=\"M18.56 5.44l.94 2.06.94-2.06 2.06-.94-2.06-.94-.94-2.06-.94 2.06-2.06.94zm-11 1L8.5 8.5l.94-2.06 2.06-.94-2.06-.94L8.5 2.5l-.94 2.06-2.06.94zm10 10l.94 2.06.94-2.06 2.06-.94-2.06-.94-.94-2.06-.94 2.06-2.06.94z\"/><path d=\"M17.41 7.96l-1.37-1.37c-.4-.4-.92-.59-1.43-.59-.52 0-1.04.2-1.43.59L10.3 9.45l-7.72 7.72c-.78.78-.78 2.05 0 2.83L4 21.41c.39.39.9.59 1.41.59.51 0 1.02-.2 1.41-.59l7.78-7.78 2.81-2.81c.8-.78.8-2.07 0-2.86zM5.41 20L4 18.59l7.72-7.72 1.47 1.35L5.41 20z\"/>\n",
              "  </svg>\n",
              "      </button>\n",
              "      \n",
              "  <style>\n",
              "    .colab-df-container {\n",
              "      display:flex;\n",
              "      flex-wrap:wrap;\n",
              "      gap: 12px;\n",
              "    }\n",
              "\n",
              "    .colab-df-convert {\n",
              "      background-color: #E8F0FE;\n",
              "      border: none;\n",
              "      border-radius: 50%;\n",
              "      cursor: pointer;\n",
              "      display: none;\n",
              "      fill: #1967D2;\n",
              "      height: 32px;\n",
              "      padding: 0 0 0 0;\n",
              "      width: 32px;\n",
              "    }\n",
              "\n",
              "    .colab-df-convert:hover {\n",
              "      background-color: #E2EBFA;\n",
              "      box-shadow: 0px 1px 2px rgba(60, 64, 67, 0.3), 0px 1px 3px 1px rgba(60, 64, 67, 0.15);\n",
              "      fill: #174EA6;\n",
              "    }\n",
              "\n",
              "    [theme=dark] .colab-df-convert {\n",
              "      background-color: #3B4455;\n",
              "      fill: #D2E3FC;\n",
              "    }\n",
              "\n",
              "    [theme=dark] .colab-df-convert:hover {\n",
              "      background-color: #434B5C;\n",
              "      box-shadow: 0px 1px 3px 1px rgba(0, 0, 0, 0.15);\n",
              "      filter: drop-shadow(0px 1px 2px rgba(0, 0, 0, 0.3));\n",
              "      fill: #FFFFFF;\n",
              "    }\n",
              "  </style>\n",
              "\n",
              "      <script>\n",
              "        const buttonEl =\n",
              "          document.querySelector('#df-219d6919-68ba-4c50-be65-72e1f9686cf5 button.colab-df-convert');\n",
              "        buttonEl.style.display =\n",
              "          google.colab.kernel.accessAllowed ? 'block' : 'none';\n",
              "\n",
              "        async function convertToInteractive(key) {\n",
              "          const element = document.querySelector('#df-219d6919-68ba-4c50-be65-72e1f9686cf5');\n",
              "          const dataTable =\n",
              "            await google.colab.kernel.invokeFunction('convertToInteractive',\n",
              "                                                     [key], {});\n",
              "          if (!dataTable) return;\n",
              "\n",
              "          const docLinkHtml = 'Like what you see? Visit the ' +\n",
              "            '<a target=\"_blank\" href=https://colab.research.google.com/notebooks/data_table.ipynb>data table notebook</a>'\n",
              "            + ' to learn more about interactive tables.';\n",
              "          element.innerHTML = '';\n",
              "          dataTable['output_type'] = 'display_data';\n",
              "          await google.colab.output.renderOutput(dataTable, element);\n",
              "          const docLink = document.createElement('div');\n",
              "          docLink.innerHTML = docLinkHtml;\n",
              "          element.appendChild(docLink);\n",
              "        }\n",
              "      </script>\n",
              "    </div>\n",
              "  </div>\n",
              "  "
            ]
          },
          "metadata": {},
          "execution_count": 8
        }
      ],
      "source": [
        "# Descripcion de las variables categoricas\n",
        "df[col_categorica].describe().T"
      ]
    },
    {
      "cell_type": "code",
      "source": [
        "for x in col_categorica:\n",
        "   frecuencia_valores = df[x].value_counts()\n",
        "   print(frecuencia_valores)"
      ],
      "metadata": {
        "id": "AEj2aHP5iI8h"
      },
      "execution_count": null,
      "outputs": []
    },
    {
      "cell_type": "code",
      "execution_count": null,
      "metadata": {
        "id": "RE5nTtDbKGTi"
      },
      "outputs": [],
      "source": [
        "# Visualizacion del recuento de respuestas\n",
        "for x in variables:\n",
        "   frecuencia_valores = df[x].value_counts()\n",
        "   print(frecuencia_valores)"
      ]
    },
    {
      "cell_type": "code",
      "source": [
        "# Creo un nuevo dataframe\n",
        "df2 = df\n",
        "\n",
        "# Uso LabelEncoder para convertir las variables categóricas en numéricas\n",
        "from sklearn.preprocessing import LabelEncoder\n",
        "\n",
        "for c in col_categorica:\n",
        "    print(str(c))\n",
        "    le = LabelEncoder()\n",
        "    le.fit(df2[str(c)])\n",
        "    df2[str(c)]=le.transform(df2[str(c)]) "
      ],
      "metadata": {
        "colab": {
          "base_uri": "https://localhost:8080/"
        },
        "id": "ySyg9HDLgTtj",
        "outputId": "e333c93b-4701-4c86-e87b-6521768e3b15"
      },
      "execution_count": null,
      "outputs": [
        {
          "output_type": "stream",
          "name": "stdout",
          "text": [
            "Gender\n",
            "Customer Type\n",
            "Type of Travel\n",
            "Class\n",
            "satisfaction\n"
          ]
        }
      ]
    },
    {
      "cell_type": "code",
      "source": [
        "for x in col_categorica:\n",
        "   frecuencia_valores = df2[x].value_counts()\n",
        "   print(frecuencia_valores)"
      ],
      "metadata": {
        "colab": {
          "base_uri": "https://localhost:8080/"
        },
        "id": "BfstMN3Po-ay",
        "outputId": "4d19f558-20a6-4082-adbc-ce3e2e498319"
      },
      "execution_count": null,
      "outputs": [
        {
          "output_type": "stream",
          "name": "stdout",
          "text": [
            "0    13172\n",
            "1    12804\n",
            "Name: Gender, dtype: int64\n",
            "0    21177\n",
            "1     4799\n",
            "Name: Customer Type, dtype: int64\n",
            "0    18038\n",
            "1     7938\n",
            "Name: Type of Travel, dtype: int64\n",
            "0    12495\n",
            "1    11564\n",
            "2     1917\n",
            "Name: Class, dtype: int64\n",
            "0    14573\n",
            "1    11403\n",
            "Name: satisfaction, dtype: int64\n"
          ]
        }
      ]
    },
    {
      "cell_type": "code",
      "source": [
        "# Agrupacion de campos por tipo de dato\n",
        "variables_total = ['Age', 'Flight Distance', 'Inflight wifi service', 'Ease of Online booking', 'Gate location','Food and drink', 'Online boarding','Seat comfort',\n",
        "                   'Inflight entertainment', 'On-board service', 'Seat space', 'Baggage handling','Checkin service', 'Inflight service', 'Cleanliness',\n",
        "                   'Gender', 'Customer Type', 'Type of Travel','Class','satisfaction'] # Se asignan todos los campos requeridos a una unica variable"
      ],
      "metadata": {
        "id": "BdSwsLWnnH6e"
      },
      "execution_count": null,
      "outputs": []
    },
    {
      "cell_type": "markdown",
      "source": [
        "# ***Análisis de la base de datos***\n",
        "\n",
        "---"
      ],
      "metadata": {
        "id": "BS1lZ-8iSJx0"
      }
    },
    {
      "cell_type": "markdown",
      "metadata": {
        "id": "6eUMfoN36_HJ"
      },
      "source": [
        "*Analisis univariado*\n",
        "\n",
        "---\n",
        "\n"
      ]
    },
    {
      "cell_type": "code",
      "execution_count": null,
      "metadata": {
        "id": "4XBAfzXp56SX",
        "colab": {
          "base_uri": "https://localhost:8080/",
          "height": 350
        },
        "outputId": "0276a0b1-faa8-4cbf-c9fa-8977a5ff789d"
      },
      "outputs": [
        {
          "output_type": "display_data",
          "data": {
            "text/plain": [
              "<Figure size 720x360 with 1 Axes>"
            ],
            "image/png": "[encoded data removed]"
          },
          "metadata": {
            "needs_background": "light"
          }
        }
      ],
      "source": [
        "# Distribucion de edades\n",
        "datos = df['Age'] #asignacion de la columna edad a una variable\n",
        "datos_norm = datos.values.flatten() #normalizacion de los datos\n",
        "fig, ax = plt.subplots(figsize=(10,5))\n",
        "ax.hist(datos_norm, bins=12, rwidth=0.95, edgecolor='black', color='yellowgreen') # se grafican los valores \n",
        "ax.set_title('Histograma de edades') #se pone titulo al grafico\n",
        "ax.set_xlabel('Intervalos de edades') #se pone nombre al eje x\n",
        "ax.set_ylabel('Recuento') #se pone nombre al eje x\n",
        "plt.savefig('Customed Plot.pdf', dpi=300, bbox_inches='tight') #Guardamos el grafico"
      ]
    },
    {
      "cell_type": "code",
      "execution_count": null,
      "metadata": {
        "id": "BOLZMU5b58Wd",
        "colab": {
          "base_uri": "https://localhost:8080/",
          "height": 282
        },
        "outputId": "2ab68d46-7e9d-4afa-8770-173fe8639f13"
      },
      "outputs": [
        {
          "output_type": "execute_result",
          "data": {
            "text/plain": [
              "<matplotlib.axes._subplots.AxesSubplot at 0x7f4c5c38a2d0>"
            ]
          },
          "metadata": {},
          "execution_count": 52
        },
        {
          "output_type": "display_data",
          "data": {
            "text/plain": [
              "<Figure size 432x288 with 1 Axes>"
            ],
            "image/png": "[encoded data removed]"
          },
          "metadata": {
            "needs_background": "light"
          }
        }
      ],
      "source": [
        "# Distancia de vuelos\n",
        "df['Flight Distance'].value_counts().sort_index().plot.area() # Se cuentan los vuelos que tienen misma distancia y se grafica"
      ]
    },
    {
      "cell_type": "code",
      "execution_count": null,
      "metadata": {
        "id": "cMVuCQhD5-bI"
      },
      "outputs": [],
      "source": [
        "# Analisis de todos los parametros de la encuesta\n",
        "\n",
        "# Funcion for para iterar sobre todos los campos\n",
        "for x in variables: \n",
        "  plt.title(df[x].name) # Asignacion de titulo al grafico\n",
        "  sns.boxplot(x=df[x], palette='Blues'); # Asignacion de color y variable al grafico box plot\n",
        "  plt.show() # Para mostrar todos los graficos"
      ]
    },
    {
      "cell_type": "code",
      "execution_count": null,
      "metadata": {
        "id": "bsCDFTtE6X9W"
      },
      "outputs": [],
      "source": [
        "# Visualizacion de la satisfaccion\n",
        "df['satisfaction'].value_counts().sort_index().plot(kind ='bar')"
      ]
    },
    {
      "cell_type": "markdown",
      "metadata": {
        "id": "gXTo_B1D6kWa"
      },
      "source": [
        "*Analisis bivariado*\n",
        "\n",
        "---\n",
        "\n"
      ]
    },
    {
      "cell_type": "code",
      "source": [
        "# Relacion entre edad y longitud del vuelo\n",
        "df.plot.scatter(x='Age', y='Flight Distance')"
      ],
      "metadata": {
        "colab": {
          "base_uri": "https://localhost:8080/",
          "height": 334
        },
        "id": "WAEWwyTZ_f8H",
        "outputId": "b0d9ea5b-0e3a-4084-c2e4-2a6929d7a49e"
      },
      "execution_count": null,
      "outputs": [
        {
          "output_type": "stream",
          "name": "stderr",
          "text": [
            "*c* argument looks like a single numeric RGB or RGBA sequence, which should be avoided as value-mapping will have precedence in case its length matches with *x* & *y*.  Please use the *color* keyword-argument or provide a 2-D array with a single row if you intend to specify the same RGB or RGBA value for all points.\n"
          ]
        },
        {
          "output_type": "execute_result",
          "data": {
            "text/plain": [
              "<matplotlib.axes._subplots.AxesSubplot at 0x7fd760760ed0>"
            ]
          },
          "metadata": {},
          "execution_count": 50
        },
        {
          "output_type": "display_data",
          "data": {
            "text/plain": [
              "<Figure size 432x288 with 1 Axes>"
            ],
            "image/png": "[encoded data removed]"
          },
          "metadata": {
            "needs_background": "light"
          }
        }
      ]
    },
    {
      "cell_type": "code",
      "source": [
        "# Se visualiza la relacion entre la edad y otras variables categoricas\n",
        "\n",
        "# Se asignan todos los campos requeridos a una unica variable\n",
        "col_categorica = ['Gender', 'Customer Type', 'Type of Travel','Class','satisfaction']\n",
        "\n",
        "# Se arma un for para analizar todas los campos de la nueva variable creada\n",
        "for x in col_categorica: \n",
        "   plt.figure(figsize=(5,5)) # Se fija el tamaño de grafico\n",
        "   sns.boxplot(df[x], df['Age']) # Se grafica un campo de la nueva variable contra el campo Edad\n",
        "   plt.title('Relación entre Age y ' + str(df[x].name), fontsize = 15) # Se agrega el titulo al grafico\n",
        "   plt.show()"
      ],
      "metadata": {
        "id": "DGk2JoZK-3SX"
      },
      "execution_count": null,
      "outputs": []
    },
    {
      "cell_type": "code",
      "source": [
        "# Se visualiza la relacion entre la satisfacción y otras variables numéricas\n",
        "\n",
        "# Se asignan todos los campos requeridos a una unica variable\n",
        "variables_total = ['Age', 'Flight Distance', 'Inflight wifi service', 'Ease of Online booking', 'Gate location','Food and drink', 'Online boarding','Seat comfort',\n",
        "                   'Inflight entertainment', 'On-board service', 'Seat space', 'Baggage handling','Checkin service', 'Inflight service', 'Cleanliness',\n",
        "                   'Gender', 'Customer Type', 'Type of Travel','Class','satisfaction']\n",
        "\n",
        "# Se arma un for para analizar todas los campos de la nueva variable creada\n",
        "for x in variables_total: \n",
        "   plt.figure(figsize=(5,5)) # Se fija el tamaño de grafico\n",
        "   sns.boxplot(df['satisfaction'], df2[x]) # Se grafica un campo de la nueva variable contra el campo Edad\n",
        "   plt.title('Relación entre la satisfacción y ' + str(df2[x].name), fontsize = 15) # Se agrega el titulo al grafico\n",
        "   plt.show()"
      ],
      "metadata": {
        "id": "FaYUsg0F4qez"
      },
      "execution_count": null,
      "outputs": []
    },
    {
      "cell_type": "markdown",
      "source": [
        "La mayor diferencia se encuentra en la comodidad del asiento, si el asiento es cómodo es la satisfacción tiende a ser mayor"
      ],
      "metadata": {
        "id": "jA92BjUN6ytS"
      }
    },
    {
      "cell_type": "markdown",
      "metadata": {
        "id": "7mbXQzMG74hO"
      },
      "source": [
        "*Analisis multivariado*\n",
        "\n",
        "---\n",
        "\n"
      ]
    },
    {
      "cell_type": "code",
      "execution_count": null,
      "metadata": {
        "id": "PrlLAFE-7-u1",
        "colab": {
          "base_uri": "https://localhost:8080/",
          "height": 449
        },
        "outputId": "e2b88d7a-9812-481c-cd8d-0d101a0b62f3"
      },
      "outputs": [
        {
          "output_type": "display_data",
          "data": {
            "text/plain": [
              "<Figure size 500x300 with 2 Axes>"
            ],
            "image/png": "[encoded data removed]"
          },
          "metadata": {
            "needs_background": "light"
          }
        }
      ],
      "source": [
        "# Visualizacion de la matriz de correlacion, en donde se busca encontrar alguna correlacion entre las variables de la encuesta\n",
        "variables_vuelo= ['Inflight wifi service','Food and drink','Seat comfort','Inflight entertainment', 'Seat space', 'Inflight service', 'Cleanliness'] # Se asignan todos los campos requeridos a una unica variable\n",
        "\n",
        "plt.figure(dpi = 100,figsize= (5,3)) # Se asigna el tamaño de la figura\n",
        "mask = np.triu(np.ones_like(df[variables_vuelo].corr(),dtype = bool)) # Se seleccionan solo los datos debajo de la diagonal del mapa con la funcion triu \n",
        "sns.heatmap(df[variables_vuelo].corr(),mask = mask, fmt = \".2f\",annot=True,lw=1,cmap = 'Spectral') # Se grafica el mapa de calor\n",
        "plt.yticks(rotation = 0)\n",
        "plt.xticks(rotation = 90)\n",
        "plt.title('Mapa de correlación') # Se agrega titulo al mapa\n",
        "plt.show() # Se visualiza el mapa"
      ]
    },
    {
      "cell_type": "code",
      "source": [
        "# Visualizacion de la relacion entre Flight Distance y Age a traves del target clase\n",
        "df_relacion = df.loc[:, ['Age','Class','Flight Distance']] # Se seleccionan los campos requeridos del data frame\n",
        "sns.pairplot(df_relacion ,hue = 'Class', palette = 'Spectral', kind=\"kde\") # Se grafica en pairplot con el target clase para trazar relaciones por pares entre las variables edad y distancia de vuelo"
      ],
      "metadata": {
        "id": "h4f-K3oEsyo9",
        "colab": {
          "base_uri": "https://localhost:8080/",
          "height": 391
        },
        "outputId": "34194473-d13c-467f-d248-653ab43b865f"
      },
      "execution_count": null,
      "outputs": [
        {
          "output_type": "execute_result",
          "data": {
            "text/plain": [
              "<seaborn.axisgrid.PairGrid at 0x7f775e2a0390>"
            ]
          },
          "metadata": {},
          "execution_count": 78
        },
        {
          "output_type": "display_data",
          "data": {
            "text/plain": [
              "<Figure size 402.375x360 with 6 Axes>"
            ],
            "image/png": "[encoded data removed]"
          },
          "metadata": {
            "needs_background": "light"
          }
        }
      ]
    },
    {
      "cell_type": "code",
      "source": [
        "# Visualizacion de la relacion entre Flight Distance y Age a traves del target tipo de cliente\n",
        "sns.FacetGrid(df, hue = 'Customer Type' , size = 5).map(plt.scatter,'Age','Flight Distance').add_legend(); \n",
        "plt.show() # Se visualiza el mapa"
      ],
      "metadata": {
        "id": "QzSh9SJ-tEbz",
        "colab": {
          "base_uri": "https://localhost:8080/",
          "height": 424
        },
        "outputId": "bddcdfcc-17d3-4c45-af3e-df6509b29c7a"
      },
      "execution_count": null,
      "outputs": [
        {
          "output_type": "stream",
          "name": "stderr",
          "text": [
            "/usr/local/lib/python3.7/dist-packages/seaborn/axisgrid.py:337: UserWarning: The `size` parameter has been renamed to `height`; please update your code.\n",
            "  warnings.warn(msg, UserWarning)\n"
          ]
        },
        {
          "output_type": "display_data",
          "data": {
            "text/plain": [
              "<Figure size 485.625x360 with 1 Axes>"
            ],
            "image/png": "[encoded data removed]"
          },
          "metadata": {
            "needs_background": "light"
          }
        }
      ]
    },
    {
      "cell_type": "markdown",
      "metadata": {
        "id": "GMnYMv5ssRJK"
      },
      "source": [
        "# ***Algoritmos de clasificación***\n",
        "\n",
        "---\n",
        "\n"
      ]
    },
    {
      "cell_type": "code",
      "source": [
        "#Importo las librerías\n",
        "from sklearn import datasets\n",
        "from sklearn.metrics import confusion_matrix\n",
        "from sklearn.metrics import classification_report"
      ],
      "metadata": {
        "id": "b_7894wqpmnX"
      },
      "execution_count": null,
      "outputs": []
    },
    {
      "cell_type": "code",
      "source": [
        "#Asigno los valores de X e y utilizando el tipo de cliente y la clase en el vuelo como features y la satisfaccion como target\n",
        "X = df2[df2[variables_total].columns.difference(['satisfaction'])]\n",
        "y = df2['satisfaction']"
      ],
      "metadata": {
        "id": "8kM5G5uio6x0"
      },
      "execution_count": null,
      "outputs": []
    },
    {
      "cell_type": "code",
      "source": [
        "#Separo el dataset en train y test\n",
        "from sklearn.model_selection import train_test_split\n",
        "\n",
        "X_train, X_test, y_train, y_test = train_test_split(X, y, test_size=0.3, random_state=1) # 70% training y 30% testing\n",
        "\n",
        "print(f'Train shape : {X_train.shape}')\n",
        "print(f'Test shape  : {X_test.shape}\\n')"
      ],
      "metadata": {
        "id": "rl-mM2AZpIrz",
        "colab": {
          "base_uri": "https://localhost:8080/"
        },
        "outputId": "b499a2c4-8a57-4e10-cdb6-04c119afc7d7"
      },
      "execution_count": null,
      "outputs": [
        {
          "output_type": "stream",
          "name": "stdout",
          "text": [
            "Train shape : (18183, 19)\n",
            "Test shape  : (7793, 19)\n",
            "\n"
          ]
        }
      ]
    },
    {
      "cell_type": "markdown",
      "source": [
        "*K-Nearest Neighbours*\n",
        "\n",
        "---"
      ],
      "metadata": {
        "id": "XTH5Y7SlpB28"
      }
    },
    {
      "cell_type": "code",
      "source": [
        "#Importo MinMaxScaler para escalear los conjuntos de entrenamiento\n",
        "from sklearn.preprocessing import MinMaxScaler\n",
        "scaler = MinMaxScaler()\n",
        "\n",
        "X_train = scaler.fit_transform(X_train)\n",
        "X_test = scaler.transform(X_test)"
      ],
      "metadata": {
        "id": "rqSTZVMPpJ9z"
      },
      "execution_count": null,
      "outputs": []
    },
    {
      "cell_type": "code",
      "source": [
        "#Importo la librería para el algoritmo de clasificación\n",
        "from sklearn.neighbors import KNeighborsClassifier\n",
        "\n",
        "#Utilizo la tecnica de tecnica de Grid Search para validar el K óptimo\n",
        "k_range = range(1, 20)\n",
        "scores_train= []\n",
        "scores_test= []\n",
        "for k in k_range:\n",
        "    clas_knn = KNeighborsClassifier(n_neighbors=k, metric='minkowski')\n",
        "    clas_knn.fit(X_train, y_train)\n",
        "    scores_train.append(clas_knn.score(X_train, y_train))\n",
        "    scores_test.append(clas_knn.score(X_test, y_test))\n",
        "\n",
        "plt.figure(figsize=(15,8))\n",
        "plt.plot(k_range, scores_train, color='yellowgreen', linestyle='dashed', marker='o',markerfacecolor='yellowgreen', markersize=10)\n",
        "plt.plot(k_range, scores_test, color='powderblue', linestyle='dashed', marker='o',markerfacecolor='powderblue', markersize=10)\n",
        "plt.title('K neighbours vs Accuracy')\n",
        "plt.xlabel('K')\n",
        "plt.ylabel('Accuracy')\n",
        "plt.xticks([0,1,2,3,4,5,6,7,8,9,10,11,12,13,14,15,16,17,18,19,20])"
      ],
      "metadata": {
        "id": "vQ3FJ5zLpPqU",
        "colab": {
          "base_uri": "https://localhost:8080/",
          "height": 895
        },
        "outputId": "04677b47-9d7d-432f-c385-1d1b4c5e0192"
      },
      "execution_count": null,
      "outputs": [
        {
          "output_type": "execute_result",
          "data": {
            "text/plain": [
              "([<matplotlib.axis.XTick at 0x7fc401515190>,\n",
              "  <matplotlib.axis.XTick at 0x7fc401515250>,\n",
              "  <matplotlib.axis.XTick at 0x7fc40193edd0>,\n",
              "  <matplotlib.axis.XTick at 0x7fc401926b10>,\n",
              "  <matplotlib.axis.XTick at 0x7fc4019269d0>,\n",
              "  <matplotlib.axis.XTick at 0x7fc40192c650>,\n",
              "  <matplotlib.axis.XTick at 0x7fc40192c850>,\n",
              "  <matplotlib.axis.XTick at 0x7fc40192cd90>,\n",
              "  <matplotlib.axis.XTick at 0x7fc401924310>,\n",
              "  <matplotlib.axis.XTick at 0x7fc40192ccd0>,\n",
              "  <matplotlib.axis.XTick at 0x7fc401924d90>,\n",
              "  <matplotlib.axis.XTick at 0x7fc4016643d0>,\n",
              "  <matplotlib.axis.XTick at 0x7fc401664650>,\n",
              "  <matplotlib.axis.XTick at 0x7fc401664910>,\n",
              "  <matplotlib.axis.XTick at 0x7fc401664410>,\n",
              "  <matplotlib.axis.XTick at 0x7fc401924090>,\n",
              "  <matplotlib.axis.XTick at 0x7fc401924390>,\n",
              "  <matplotlib.axis.XTick at 0x7fc4016895d0>,\n",
              "  <matplotlib.axis.XTick at 0x7fc401689b10>,\n",
              "  <matplotlib.axis.XTick at 0x7fc401689a50>,\n",
              "  <matplotlib.axis.XTick at 0x7fc40169e5d0>],\n",
              " <a list of 21 Text major ticklabel objects>)"
            ]
          },
          "metadata": {},
          "execution_count": 152
        },
        {
          "output_type": "display_data",
          "data": {
            "text/plain": [
              "<Figure size 1080x576 with 1 Axes>"
            ],
            "image/png": "[encoded data removed]"
          },
          "metadata": {
            "needs_background": "light"
          }
        }
      ]
    },
    {
      "cell_type": "code",
      "source": [
        "#El valor minimo optimo de vecinos es k = 3 que llega a una Accuracy del 89% para la data de Testing\n",
        "n_neighbors = 3\n",
        "\n",
        "#Consideraer que la distancia entre vecinos es con el parametro 'metric'probemos con otras distancia Minkowski \n",
        "clas_knn = KNeighborsClassifier(n_neighbors, metric = 'minkowski')\n",
        "clas_knn.fit(X_train, y_train)\n",
        "\n",
        "accuracy_train_knn = clas_knn.score(X_train, y_train)\n",
        "accuracy_test_knn = clas_knn.score(X_test, y_test)\n",
        "\n",
        "print('El Accuracy Train del modelo es de: {:.2f}'\n",
        "      .format(accuracy_train_knn))\n",
        "print('El Accuracy Test del modelo es de: {:.2f}'\n",
        "      .format(accuracy_test_knn))"
      ],
      "metadata": {
        "colab": {
          "base_uri": "https://localhost:8080/"
        },
        "id": "4Hgb024qq27w",
        "outputId": "c7378f48-80c6-44ca-8f60-0ac3e46dc073"
      },
      "execution_count": null,
      "outputs": [
        {
          "output_type": "stream",
          "name": "stdout",
          "text": [
            "El Accuracy Train del modelo es de: 0.87\n",
            "El Accuracy Test del modelo es de: 0.74\n"
          ]
        }
      ]
    },
    {
      "cell_type": "code",
      "source": [
        "#Creo la variable de predicción en función de la respuesta del test\n",
        "y_train_pred_knn = clas_knn.predict(X_train)\n",
        "y_test_pred_knn = clas_knn.predict(X_test)"
      ],
      "metadata": {
        "id": "NXrRN8DJq96P"
      },
      "execution_count": null,
      "outputs": []
    },
    {
      "cell_type": "code",
      "source": [
        "#Creamos la matriz de confusión para KNN\n",
        "from sklearn.metrics import confusion_matrix\n",
        "matriz = confusion_matrix(y_test, y_test_pred_knn)\n",
        "print(f'Matriz de Confusión: \\n {matriz} \\n')\n",
        "\n",
        "#Graficamos la matriz de confusión\n",
        "from sklearn.metrics import plot_confusion_matrix\n",
        "plot_confusion_matrix(clas_knn, \n",
        "                      X = X_test, \n",
        "                      y_true = y_test, \n",
        "                      colorbar=True, \n",
        "                      cmap='Spectral')"
      ],
      "metadata": {
        "colab": {
          "base_uri": "https://localhost:8080/",
          "height": 421
        },
        "id": "Tp4zM_mlriZx",
        "outputId": "1ce55c31-7bc2-4c67-a243-7d4198ef92da"
      },
      "execution_count": null,
      "outputs": [
        {
          "output_type": "stream",
          "name": "stdout",
          "text": [
            "Matriz de Confusión: \n",
            " [[2336  576]\n",
            " [ 763 1521]] \n",
            "\n"
          ]
        },
        {
          "output_type": "stream",
          "name": "stderr",
          "text": [
            "/usr/local/lib/python3.7/dist-packages/sklearn/utils/deprecation.py:87: FutureWarning: Function plot_confusion_matrix is deprecated; Function `plot_confusion_matrix` is deprecated in 1.0 and will be removed in 1.2. Use one of the class methods: ConfusionMatrixDisplay.from_predictions or ConfusionMatrixDisplay.from_estimator.\n",
            "  warnings.warn(msg, category=FutureWarning)\n"
          ]
        },
        {
          "output_type": "execute_result",
          "data": {
            "text/plain": [
              "<sklearn.metrics._plot.confusion_matrix.ConfusionMatrixDisplay at 0x7fc40134c3d0>"
            ]
          },
          "metadata": {},
          "execution_count": 181
        },
        {
          "output_type": "display_data",
          "data": {
            "text/plain": [
              "<Figure size 432x288 with 2 Axes>"
            ],
            "image/png": "[encoded data removed]"
          },
          "metadata": {
            "needs_background": "light"
          }
        }
      ]
    },
    {
      "cell_type": "code",
      "source": [
        "#Importo las librerias para calcular las metricas de Accuracy, Presicion, Recall y F1\n",
        "from sklearn.metrics import accuracy_score\n",
        "from sklearn.metrics import precision_score\n",
        "from sklearn.metrics import recall_score\n",
        "from sklearn.metrics import f1_score\n",
        "from sklearn.metrics import classification_report\n",
        "\n",
        "# Accuracy\n",
        "print(f\"El Accuracy del modelo es de: {accuracy_score(y_test, y_test_pred_knn)}\\n\")\n",
        "\n",
        "# Precision\n",
        "print(f\"La Precision del modelo es de: {precision_score(y_test, y_test_pred_knn)}\\n\")\n",
        "\n",
        "# Recall\n",
        "print(f\"El Recall del modelo es de: {recall_score(y_test,y_test_pred_knn)}\\n\")\n",
        "\n",
        "# F1 score\n",
        "print(f\"El valor de F1 del modelo es de: {f1_score(y_test, y_test_pred_knn)}\\n\\n\")\n",
        "\n",
        "#Reporte de clasificación\n",
        "print(f'Reporte de clasificación: \\n\\n {classification_report(y_test, y_test_pred_knn)}')"
      ],
      "metadata": {
        "colab": {
          "base_uri": "https://localhost:8080/"
        },
        "id": "eqN_mXpbTB70",
        "outputId": "6ff0f55e-1689-4ba7-94c8-d9fadf24632e"
      },
      "execution_count": null,
      "outputs": [
        {
          "output_type": "stream",
          "name": "stdout",
          "text": [
            "El Accuracy del modelo es de: 0.7423017705927637\n",
            "\n",
            "La Precision del modelo es de: 0.7253218884120172\n",
            "\n",
            "El Recall del modelo es de: 0.6659369527145359\n",
            "\n",
            "El valor de F1 del modelo es de: 0.6943620178041543\n",
            "\n",
            "\n",
            "Reporte de clasificación: \n",
            "\n",
            "               precision    recall  f1-score   support\n",
            "\n",
            "           0       0.75      0.80      0.78      2912\n",
            "           1       0.73      0.67      0.69      2284\n",
            "\n",
            "    accuracy                           0.74      5196\n",
            "   macro avg       0.74      0.73      0.74      5196\n",
            "weighted avg       0.74      0.74      0.74      5196\n",
            "\n"
          ]
        }
      ]
    },
    {
      "cell_type": "markdown",
      "source": [
        "*Arbol de decision*\n",
        "\n",
        "---"
      ],
      "metadata": {
        "id": "o8e7bUxXrJhC"
      }
    },
    {
      "cell_type": "code",
      "source": [
        "#Invoco el clasificador para el albol de decision\n",
        "from sklearn.tree import DecisionTreeClassifier\n",
        "clas_dt = DecisionTreeClassifier()\n",
        "\n",
        "#Entreno el clasificador\n",
        "clas_dt.fit(X_train, y_train)\n",
        "\n",
        "#Creo la variable de predicción en función de la respuesta del test\n",
        "y_train_pred_dt = clas_dt.predict(X_train)\n",
        "y_test_pred_dt = clas_dt.predict(X_test)"
      ],
      "metadata": {
        "id": "3hpNg2MWrJGH"
      },
      "execution_count": null,
      "outputs": []
    },
    {
      "cell_type": "code",
      "source": [
        "#Creamos la matriz de confusión\n",
        "from sklearn.metrics import confusion_matrix\n",
        "matriz = confusion_matrix(y_test, y_test_pred_dt)\n",
        "print(f'Matriz de Confusión: \\n {matriz} \\n')\n",
        "\n",
        "#Graficamos la matriz de confusión\n",
        "from sklearn.metrics import plot_confusion_matrix\n",
        "plot_confusion_matrix(clas_dt, \n",
        "                      X = X_test, \n",
        "                      y_true = y_test, \n",
        "                      colorbar=True, \n",
        "                      cmap='Spectral')"
      ],
      "metadata": {
        "colab": {
          "base_uri": "https://localhost:8080/",
          "height": 421
        },
        "id": "MJTMeDUjrYNn",
        "outputId": "49e9435b-ff38-4209-d6bc-f7339fa38145"
      },
      "execution_count": null,
      "outputs": [
        {
          "output_type": "stream",
          "name": "stdout",
          "text": [
            "Matriz de Confusión: \n",
            " [[2712  200]\n",
            " [ 159 2125]] \n",
            "\n"
          ]
        },
        {
          "output_type": "stream",
          "name": "stderr",
          "text": [
            "/usr/local/lib/python3.7/dist-packages/sklearn/utils/deprecation.py:87: FutureWarning: Function plot_confusion_matrix is deprecated; Function `plot_confusion_matrix` is deprecated in 1.0 and will be removed in 1.2. Use one of the class methods: ConfusionMatrixDisplay.from_predictions or ConfusionMatrixDisplay.from_estimator.\n",
            "  warnings.warn(msg, category=FutureWarning)\n"
          ]
        },
        {
          "output_type": "execute_result",
          "data": {
            "text/plain": [
              "<sklearn.metrics._plot.confusion_matrix.ConfusionMatrixDisplay at 0x7fc4014c5910>"
            ]
          },
          "metadata": {},
          "execution_count": 184
        },
        {
          "output_type": "display_data",
          "data": {
            "text/plain": [
              "<Figure size 432x288 with 2 Axes>"
            ],
            "image/png": "[encoded data removed]"
          },
          "metadata": {
            "needs_background": "light"
          }
        }
      ]
    },
    {
      "cell_type": "code",
      "source": [
        "#Me fijo el accuracy del modelo\n",
        "from sklearn import metrics\n",
        "accuracy_train_dt = metrics.accuracy_score(y_train, y_train_pred_dt)\n",
        "accuracy_test_dt = metrics.accuracy_score(y_test, y_test_pred_dt)                               \n",
        "print(\"El Accuracy Train del modelo es de:\",accuracy_train_dt)\n",
        "print(\"El Accuracy Test del modelo es de:\",accuracy_test_dt)"
      ],
      "metadata": {
        "colab": {
          "base_uri": "https://localhost:8080/"
        },
        "id": "KKAB8p9ArbQf",
        "outputId": "cfaf356c-1a2d-418c-f54a-869678f77a14"
      },
      "execution_count": null,
      "outputs": [
        {
          "output_type": "stream",
          "name": "stdout",
          "text": [
            "El Accuracy Train del modelo es de: 1.0\n",
            "El Accuracy Test del modelo es de: 0.9309083910700539\n"
          ]
        }
      ]
    },
    {
      "cell_type": "code",
      "source": [
        "#Comparamos el modelo del árbol de desición con knn\n",
        "print('El árbol de desición es ' + str(accuracy_test_dt-accuracy_test_knn) + '% mas preciso que knn')"
      ],
      "metadata": {
        "colab": {
          "base_uri": "https://localhost:8080/"
        },
        "id": "aMiPTDki3RWO",
        "outputId": "8d824895-d798-48b1-868e-41b13f8accaf"
      },
      "execution_count": null,
      "outputs": [
        {
          "output_type": "stream",
          "name": "stdout",
          "text": [
            "El árbol de desición es 0.18860662047729015% mas preciso que knn\n"
          ]
        }
      ]
    },
    {
      "cell_type": "code",
      "source": [
        "#Importo las librerias para calcular las metricas de Accuracy, Presicion, Recall y F1\n",
        "from sklearn.metrics import accuracy_score\n",
        "from sklearn.metrics import precision_score\n",
        "from sklearn.metrics import recall_score\n",
        "from sklearn.metrics import f1_score\n",
        "from sklearn.metrics import classification_report\n",
        "\n",
        "# Accuracy\n",
        "print(f\"El Accuracy del modelo es de: {accuracy_score(y_test, y_test_pred_dt)}\\n\")\n",
        "\n",
        "# Precision\n",
        "print(f\"La Precision del modelo es de: {precision_score(y_test, y_test_pred_dt)}\\n\")\n",
        "\n",
        "# Recall\n",
        "print(f\"El Recall del modelo es de: {recall_score(y_test,y_test_pred_dt)}\\n\")\n",
        "\n",
        "# F1 score\n",
        "print(f\"El valor de F1 del modelo es de: {f1_score(y_test, y_test_pred_dt)}\\n\\n\")\n",
        "\n",
        "#Reporte de clasificación\n",
        "print(f'Reporte de clasificación: \\n\\n {classification_report(y_test, y_test_pred_dt)}')"
      ],
      "metadata": {
        "colab": {
          "base_uri": "https://localhost:8080/"
        },
        "id": "zHBKU3n5UrNh",
        "outputId": "db903c76-87f2-49fa-fc3e-780c4f971f75"
      },
      "execution_count": null,
      "outputs": [
        {
          "output_type": "stream",
          "name": "stdout",
          "text": [
            "El Accuracy del modelo es de: 0.9309083910700539\n",
            "\n",
            "La Precision del modelo es de: 0.9139784946236559\n",
            "\n",
            "El Recall del modelo es de: 0.930385288966725\n",
            "\n",
            "El valor de F1 del modelo es de: 0.9221089173356475\n",
            "\n",
            "\n",
            "Reporte de clasificación: \n",
            "\n",
            "               precision    recall  f1-score   support\n",
            "\n",
            "           0       0.94      0.93      0.94      2912\n",
            "           1       0.91      0.93      0.92      2284\n",
            "\n",
            "    accuracy                           0.93      5196\n",
            "   macro avg       0.93      0.93      0.93      5196\n",
            "weighted avg       0.93      0.93      0.93      5196\n",
            "\n"
          ]
        }
      ]
    },
    {
      "cell_type": "markdown",
      "source": [
        "*Random Forest*\n",
        "\n",
        "---"
      ],
      "metadata": {
        "id": "Z9oNdnltnE8H"
      }
    },
    {
      "cell_type": "code",
      "source": [
        "#Creamos el random forest y lo entrenamos con las variables de entrenamiento\n",
        "from sklearn.ensemble import RandomForestClassifier\n",
        "\n",
        "clas_rd = RandomForestClassifier(random_state=11, \n",
        "                                  n_estimators=200,\n",
        "                                  class_weight=\"balanced\", \n",
        "                                  max_features=\"log2\")\n",
        "clas_rd.fit(X_train, y_train)\n",
        "\n",
        "#Realizamos una predicción con la variable de test\n",
        "y_test_pred_rd = clas_rd.predict(X_test) \n",
        "\n",
        "#Calculamos la precision del random forest\n",
        "from sklearn.metrics import accuracy_score\n",
        "accuracy_test_rd = accuracy_score(y_test, y_test_pred_rd)\n",
        "print('% de aciertos sobre el set de evaluación:',accuracy_test_rd)"
      ],
      "metadata": {
        "colab": {
          "base_uri": "https://localhost:8080/"
        },
        "id": "30DRWtCinG8o",
        "outputId": "fe0aa2ff-343a-4470-d87d-1dddd3d966c3"
      },
      "execution_count": null,
      "outputs": [
        {
          "output_type": "stream",
          "name": "stdout",
          "text": [
            "% de aciertos sobre el set de evaluación: 0.9545804464973057\n"
          ]
        }
      ]
    },
    {
      "cell_type": "code",
      "source": [
        "#Comparamos el modelo del árbol de desición y knn con random forest\n",
        "print('El random forest es ' + str(accuracy_test_rd-accuracy_test_dt) + '% mas preciso que el arbol de decision simple y ' \n",
        "      + str(accuracy_test_rd-accuracy_test_knn) + '% mas preciso que knn' )"
      ],
      "metadata": {
        "colab": {
          "base_uri": "https://localhost:8080/"
        },
        "id": "qWC3FZEp1IeW",
        "outputId": "63bb2a89-f7d5-4234-e91b-d4b31bfa3b95"
      },
      "execution_count": null,
      "outputs": [
        {
          "output_type": "stream",
          "name": "stdout",
          "text": [
            "El random forest es 0.023672055427251815% mas preciso que el arbol de decision simple y 0.21227867590454197% mas preciso que knn\n"
          ]
        }
      ]
    },
    {
      "cell_type": "code",
      "source": [
        "#Creamos la matriz de confusión\n",
        "from sklearn.metrics import confusion_matrix\n",
        "matriz = confusion_matrix(y_test, y_test_pred_rd)\n",
        "print(f'Matriz de Confusión: \\n {matriz} \\n')\n",
        "\n",
        "#Graficamos la matriz de confusion\n",
        "from sklearn.metrics import confusion_matrix\n",
        "plot_confusion_matrix(clas_rd, \n",
        "                      X = X_test, \n",
        "                      y_true = y_test, \n",
        "                      colorbar=True, \n",
        "                      cmap='Spectral')"
      ],
      "metadata": {
        "colab": {
          "base_uri": "https://localhost:8080/",
          "height": 421
        },
        "id": "iV7DZCXPuvwo",
        "outputId": "45a17fac-c566-4125-b9f7-3e1388b22eb0"
      },
      "execution_count": null,
      "outputs": [
        {
          "output_type": "stream",
          "name": "stdout",
          "text": [
            "Matriz de Confusión: \n",
            " [[2824   88]\n",
            " [ 148 2136]] \n",
            "\n"
          ]
        },
        {
          "output_type": "stream",
          "name": "stderr",
          "text": [
            "/usr/local/lib/python3.7/dist-packages/sklearn/utils/deprecation.py:87: FutureWarning: Function plot_confusion_matrix is deprecated; Function `plot_confusion_matrix` is deprecated in 1.0 and will be removed in 1.2. Use one of the class methods: ConfusionMatrixDisplay.from_predictions or ConfusionMatrixDisplay.from_estimator.\n",
            "  warnings.warn(msg, category=FutureWarning)\n"
          ]
        },
        {
          "output_type": "execute_result",
          "data": {
            "text/plain": [
              "<sklearn.metrics._plot.confusion_matrix.ConfusionMatrixDisplay at 0x7fc401b3ae90>"
            ]
          },
          "metadata": {},
          "execution_count": 198
        },
        {
          "output_type": "display_data",
          "data": {
            "text/plain": [
              "<Figure size 432x288 with 2 Axes>"
            ],
            "image/png": "[encoded data removed]"
          },
          "metadata": {
            "needs_background": "light"
          }
        }
      ]
    },
    {
      "cell_type": "code",
      "source": [
        "#Importo las librerias para calcular las metricas de Accuracy, Presicion, Recall y F1\n",
        "from sklearn.metrics import accuracy_score\n",
        "from sklearn.metrics import precision_score\n",
        "from sklearn.metrics import recall_score\n",
        "from sklearn.metrics import f1_score\n",
        "from sklearn.metrics import classification_report\n",
        "\n",
        "# Accuracy\n",
        "print(f\"El Accuracy del modelo es de: {accuracy_score(y_test, y_test_pred_rd)}\\n\")\n",
        "\n",
        "# Precision\n",
        "print(f\"La Precision del modelo es de: {precision_score(y_test, y_test_pred_rd)}\\n\")\n",
        "\n",
        "# Recall\n",
        "print(f\"El Recall del modelo es de: {recall_score(y_test,y_test_pred_rd)}\\n\")\n",
        "\n",
        "# F1 score\n",
        "print(f\"El valor de F1 del modelo es de: {f1_score(y_test, y_test_pred_rd)}\\n\\n\")\n",
        "\n",
        "#Reporte de clasificación\n",
        "print(f'Reporte de clasificación: \\n\\n {classification_report(y_test, y_test_pred_rd)}')"
      ],
      "metadata": {
        "colab": {
          "base_uri": "https://localhost:8080/"
        },
        "id": "BzvNGhbQU3sU",
        "outputId": "8936d090-6a24-43f1-939f-bd826f13d334"
      },
      "execution_count": null,
      "outputs": [
        {
          "output_type": "stream",
          "name": "stdout",
          "text": [
            "El Accuracy del modelo es de: 0.9545804464973057\n",
            "\n",
            "La Precision del modelo es de: 0.960431654676259\n",
            "\n",
            "El Recall del modelo es de: 0.9352014010507881\n",
            "\n",
            "El valor de F1 del modelo es de: 0.9476486246672582\n",
            "\n",
            "\n",
            "Reporte de clasificación: \n",
            "\n",
            "               precision    recall  f1-score   support\n",
            "\n",
            "           0       0.95      0.97      0.96      2912\n",
            "           1       0.96      0.94      0.95      2284\n",
            "\n",
            "    accuracy                           0.95      5196\n",
            "   macro avg       0.96      0.95      0.95      5196\n",
            "weighted avg       0.95      0.95      0.95      5196\n",
            "\n"
          ]
        }
      ]
    },
    {
      "cell_type": "markdown",
      "source": [
        "*Support Vector Machine's*\n",
        "\n",
        "---"
      ],
      "metadata": {
        "id": "ZJh_WDr_Ph3D"
      }
    },
    {
      "cell_type": "code",
      "source": [
        "#Invoco el clasificador para el SVC\n",
        "from sklearn.svm import SVC\n",
        "from sklearn.metrics import classification_report\n",
        "\n",
        "clas_svc = SVC()\n",
        "\n",
        "#Entreno el clasificador\n",
        "clas_svc.fit(X_train, y_train)\n",
        "\n",
        "#Creo la variable de predicción en función de la respuesta del test\n",
        "y_test_pred_svc = clas_svc.predict(X_test)"
      ],
      "metadata": {
        "id": "hhdBSLYU9h9u"
      },
      "execution_count": null,
      "outputs": []
    },
    {
      "cell_type": "code",
      "source": [
        "#Creamos la matriz de confusión\n",
        "from sklearn.metrics import confusion_matrix\n",
        "matriz = confusion_matrix(y_test, y_test_pred_svc)\n",
        "print(f'Matriz de Confusión: \\n {matriz} \\n')\n",
        "\n",
        "#Graficamos la matriz de confusion\n",
        "from sklearn.metrics import confusion_matrix\n",
        "plot_confusion_matrix(clas_svc, \n",
        "                      X = X_test, \n",
        "                      y_true = y_test, \n",
        "                      colorbar=True, \n",
        "                      cmap='Spectral')"
      ],
      "metadata": {
        "id": "r3i1d2kAIT4p",
        "colab": {
          "base_uri": "https://localhost:8080/",
          "height": 421
        },
        "outputId": "41f1ad20-ddb7-4874-db09-6bef9d6b9ce2"
      },
      "execution_count": null,
      "outputs": [
        {
          "output_type": "stream",
          "name": "stdout",
          "text": [
            "Matriz de Confusión: \n",
            " [[2456  456]\n",
            " [1314  970]] \n",
            "\n"
          ]
        },
        {
          "output_type": "stream",
          "name": "stderr",
          "text": [
            "/usr/local/lib/python3.7/dist-packages/sklearn/utils/deprecation.py:87: FutureWarning: Function plot_confusion_matrix is deprecated; Function `plot_confusion_matrix` is deprecated in 1.0 and will be removed in 1.2. Use one of the class methods: ConfusionMatrixDisplay.from_predictions or ConfusionMatrixDisplay.from_estimator.\n",
            "  warnings.warn(msg, category=FutureWarning)\n"
          ]
        },
        {
          "output_type": "execute_result",
          "data": {
            "text/plain": [
              "<sklearn.metrics._plot.confusion_matrix.ConfusionMatrixDisplay at 0x7fc4013b19d0>"
            ]
          },
          "metadata": {},
          "execution_count": 195
        },
        {
          "output_type": "display_data",
          "data": {
            "text/plain": [
              "<Figure size 432x288 with 2 Axes>"
            ],
            "image/png": "[encoded data removed]"
          },
          "metadata": {
            "needs_background": "light"
          }
        }
      ]
    },
    {
      "cell_type": "code",
      "source": [
        "#Importo las librerias para calcular las metricas de Accuracy, Presicion, Recall y F1\n",
        "from sklearn.metrics import accuracy_score\n",
        "from sklearn.metrics import precision_score\n",
        "from sklearn.metrics import recall_score\n",
        "from sklearn.metrics import f1_score\n",
        "from sklearn.metrics import classification_report\n",
        "\n",
        "# Accuracy\n",
        "print(f\"El Accuracy del modelo es de: {accuracy_score(y_test, y_test_pred_svc)}\\n\")\n",
        "\n",
        "# Precision\n",
        "print(f\"La Precision del modelo es de: {precision_score(y_test, y_test_pred_svc)}\\n\")\n",
        "\n",
        "# Recall\n",
        "print(f\"El Recall del modelo es de: {recall_score(y_test,y_test_pred_svc)}\\n\")\n",
        "\n",
        "# F1 score\n",
        "print(f\"El valor de F1 del modelo es de: {f1_score(y_test, y_test_pred_svc)}\\n\\n\")\n",
        "\n",
        "#Reporte de clasificación\n",
        "print(f'Reporte de clasificación: \\n\\n {classification_report(y_test, y_test_pred_svc)}')"
      ],
      "metadata": {
        "id": "s0_VOULtJpoo",
        "colab": {
          "base_uri": "https://localhost:8080/"
        },
        "outputId": "b6c4b66e-316c-4a72-8100-33bf11238701"
      },
      "execution_count": null,
      "outputs": [
        {
          "output_type": "stream",
          "name": "stdout",
          "text": [
            "El Accuracy del modelo es de: 0.6593533487297921\n",
            "\n",
            "La Precision del modelo es de: 0.6802244039270687\n",
            "\n",
            "El Recall del modelo es de: 0.4246935201401051\n",
            "\n",
            "El valor de F1 del modelo es de: 0.522911051212938\n",
            "\n",
            "\n",
            "Reporte de clasificación: \n",
            "\n",
            "               precision    recall  f1-score   support\n",
            "\n",
            "           0       0.65      0.84      0.74      2912\n",
            "           1       0.68      0.42      0.52      2284\n",
            "\n",
            "    accuracy                           0.66      5196\n",
            "   macro avg       0.67      0.63      0.63      5196\n",
            "weighted avg       0.66      0.66      0.64      5196\n",
            "\n"
          ]
        }
      ]
    },
    {
      "cell_type": "code",
      "source": [
        "#Importo las librerias para calcular las metricas de Accuracy, Presicion, Recall y F1\n",
        "from sklearn.metrics import accuracy_score\n",
        "from sklearn.metrics import precision_score\n",
        "from sklearn.metrics import recall_score\n",
        "from sklearn.metrics import f1_score\n",
        "from sklearn.metrics import classification_report\n",
        "\n",
        "print(\"            KNN      DT      RF     SVC\")\n",
        "\n",
        "# Accuracy\n",
        "print(f\"Accuracy    {round(accuracy_score(y_test, y_test_pred_knn),2)}    {round(accuracy_score(y_test, y_test_pred_dt),2)}    {round(accuracy_score(y_test, y_test_pred_rd),2)}    {round(accuracy_score(y_test, y_test_pred_svc),2)}\")\n",
        "\n",
        "# Precision\n",
        "print(f\"Precision   {round(precision_score(y_test, y_test_pred_knn),2)}    {round(precision_score(y_test, y_test_pred_dt),2)}    {round(precision_score(y_test, y_test_pred_rd),2)}    {round(precision_score(y_test, y_test_pred_svc),2)}\")\n",
        "\n",
        "# Recall\n",
        "print(f\"Recall      {round(recall_score(y_test,y_test_pred_knn),2)}    {round(recall_score(y_test,y_test_pred_dt),2)}    {round(recall_score(y_test,y_test_pred_rd),2)}    {round(recall_score(y_test,y_test_pred_svc),2)}\")\n",
        "\n",
        "# F1 score\n",
        "print(f\"F1          {round(f1_score(y_test, y_test_pred_knn),2)}     {round(f1_score(y_test, y_test_pred_dt),2)}    {round(f1_score(y_test, y_test_pred_rd),2)}    {round(f1_score(y_test, y_test_pred_svc),2)}\")"
      ],
      "metadata": {
        "id": "3wgyinVjgYJa",
        "colab": {
          "base_uri": "https://localhost:8080/"
        },
        "outputId": "aded6dd4-f60e-4b25-c3e5-f7da66d27b09"
      },
      "execution_count": null,
      "outputs": [
        {
          "output_type": "stream",
          "name": "stdout",
          "text": [
            "            KNN      DT      RF     SVC\n",
            "Accuracy    0.74    0.93    0.95    0.66\n",
            "Precision   0.73    0.91    0.96    0.68\n",
            "Recall      0.67    0.93    0.94    0.42\n",
            "F1          0.69     0.92    0.95    0.52\n"
          ]
        }
      ]
    },
    {
      "cell_type": "markdown",
      "source": [
        "Analizando todos los modelos, el que mejor se ajusta a los datos es el modelo de Random Forest."
      ],
      "metadata": {
        "id": "b-97FZiZhlzB"
      }
    },
    {
      "cell_type": "markdown",
      "source": [
        "*Regresión lineal*\n",
        "\n",
        "---"
      ],
      "metadata": {
        "id": "P05BY2AL9v2V"
      }
    },
    {
      "cell_type": "code",
      "source": [
        "from sklearn.linear_model import LinearRegression\n",
        "\n",
        "clas_lr = LinearRegression()\n",
        "clas_lr.fit(X_train, y_train) \n",
        "\n",
        "y_train_pred_lr = clas_lr.predict(X_train)\n",
        "y_test_pred_lr = clas_lr.predict (X_test)"
      ],
      "metadata": {
        "colab": {
          "base_uri": "https://localhost:8080/"
        },
        "id": "TEU2e3SbYTGZ",
        "outputId": "72e321b0-dc3b-45d4-babb-6aa4119f4c66"
      },
      "execution_count": null,
      "outputs": [
        {
          "output_type": "execute_result",
          "data": {
            "text/plain": [
              "LinearRegression()"
            ]
          },
          "metadata": {},
          "execution_count": 73
        }
      ]
    },
    {
      "cell_type": "code",
      "source": [
        "def score():\n",
        "    print(f'Scores:')\n",
        "    print(f'Train      = {clas_lr.score(X_train, y_train):.4}')\n",
        "    print(f'Validation = {clas_lr.score(X_test, y_test):.4}')\n",
        "\n",
        "score()"
      ],
      "metadata": {
        "colab": {
          "base_uri": "https://localhost:8080/"
        },
        "id": "0-XdMhceTCi6",
        "outputId": "721e6ab2-3d0a-4dd8-9d6d-9d398eb2617e"
      },
      "execution_count": null,
      "outputs": [
        {
          "output_type": "stream",
          "name": "stdout",
          "text": [
            "Scores:\n",
            "Train      = 0.5393\n",
            "Validation = 0.5534\n"
          ]
        }
      ]
    },
    {
      "cell_type": "code",
      "source": [
        "# Veamos el MSE\n",
        "from sklearn.metrics import mean_squared_error\n",
        "mean_squared_error(y_train, clas_lr.predict(X_train)), mean_squared_error(y_test, clas_lr.predict(X_test))"
      ],
      "metadata": {
        "colab": {
          "base_uri": "https://localhost:8080/"
        },
        "id": "gUzRiIzxT_Ya",
        "outputId": "7a6402b9-9d2d-48fd-c886-b6885de498aa"
      },
      "execution_count": null,
      "outputs": [
        {
          "output_type": "execute_result",
          "data": {
            "text/plain": [
              "(0.11355644429605163, 0.10977518606308379)"
            ]
          },
          "metadata": {},
          "execution_count": 80
        }
      ]
    },
    {
      "cell_type": "code",
      "source": [
        "#ME fijo el peso que tiene cada una de las variables\n",
        "importancia = pd.DataFrame({'col':X_train.columns, \n",
        "                            'importance':clas_lr.coef_}).sort_values('importance', ascending=False)\n",
        "\n",
        "print('El orden de importancia de las variables es: \\n')\n",
        "importancia.style.bar()"
      ],
      "metadata": {
        "colab": {
          "base_uri": "https://localhost:8080/",
          "height": 617
        },
        "id": "3gzYNjbNUSBj",
        "outputId": "ffc72e9e-f876-4edc-d9f2-c53835b960cf"
      },
      "execution_count": null,
      "outputs": [
        {
          "output_type": "stream",
          "name": "stdout",
          "text": [
            "El orden de importancia de las variables es: \n",
            "\n"
          ]
        },
        {
          "output_type": "execute_result",
          "data": {
            "text/plain": [
              "<pandas.io.formats.style.Styler at 0x7fc4039cc9d0>"
            ],
            "text/html": [
              "<style type=\"text/css\">\n",
              "#T_b10a1_row0_col1 {\n",
              "  width: 10em;\n",
              "  height: 80%;\n",
              "  background: linear-gradient(90deg,#d65f5f 100.0%, transparent 100.0%);\n",
              "}\n",
              "#T_b10a1_row1_col1 {\n",
              "  width: 10em;\n",
              "  height: 80%;\n",
              "  background: linear-gradient(90deg,#d65f5f 98.0%, transparent 98.0%);\n",
              "}\n",
              "#T_b10a1_row2_col1 {\n",
              "  width: 10em;\n",
              "  height: 80%;\n",
              "  background: linear-gradient(90deg,#d65f5f 92.1%, transparent 92.1%);\n",
              "}\n",
              "#T_b10a1_row3_col1 {\n",
              "  width: 10em;\n",
              "  height: 80%;\n",
              "  background: linear-gradient(90deg,#d65f5f 91.7%, transparent 91.7%);\n",
              "}\n",
              "#T_b10a1_row4_col1 {\n",
              "  width: 10em;\n",
              "  height: 80%;\n",
              "  background: linear-gradient(90deg,#d65f5f 91.1%, transparent 91.1%);\n",
              "}\n",
              "#T_b10a1_row5_col1 {\n",
              "  width: 10em;\n",
              "  height: 80%;\n",
              "  background: linear-gradient(90deg,#d65f5f 90.9%, transparent 90.9%);\n",
              "}\n",
              "#T_b10a1_row6_col1 {\n",
              "  width: 10em;\n",
              "  height: 80%;\n",
              "  background: linear-gradient(90deg,#d65f5f 88.2%, transparent 88.2%);\n",
              "}\n",
              "#T_b10a1_row7_col1 {\n",
              "  width: 10em;\n",
              "  height: 80%;\n",
              "  background: linear-gradient(90deg,#d65f5f 88.0%, transparent 88.0%);\n",
              "}\n",
              "#T_b10a1_row8_col1 {\n",
              "  width: 10em;\n",
              "  height: 80%;\n",
              "  background: linear-gradient(90deg,#d65f5f 87.3%, transparent 87.3%);\n",
              "}\n",
              "#T_b10a1_row9_col1 {\n",
              "  width: 10em;\n",
              "  height: 80%;\n",
              "  background: linear-gradient(90deg,#d65f5f 86.6%, transparent 86.6%);\n",
              "}\n",
              "#T_b10a1_row10_col1 {\n",
              "  width: 10em;\n",
              "  height: 80%;\n",
              "  background: linear-gradient(90deg,#d65f5f 85.5%, transparent 85.5%);\n",
              "}\n",
              "#T_b10a1_row11_col1 {\n",
              "  width: 10em;\n",
              "  height: 80%;\n",
              "  background: linear-gradient(90deg,#d65f5f 83.3%, transparent 83.3%);\n",
              "}\n",
              "#T_b10a1_row12_col1 {\n",
              "  width: 10em;\n",
              "  height: 80%;\n",
              "  background: linear-gradient(90deg,#d65f5f 82.7%, transparent 82.7%);\n",
              "}\n",
              "#T_b10a1_row13_col1 {\n",
              "  width: 10em;\n",
              "  height: 80%;\n",
              "  background: linear-gradient(90deg,#d65f5f 74.7%, transparent 74.7%);\n",
              "}\n",
              "#T_b10a1_row14_col1 {\n",
              "  width: 10em;\n",
              "  height: 80%;\n",
              "  background: linear-gradient(90deg,#d65f5f 68.9%, transparent 68.9%);\n",
              "}\n",
              "#T_b10a1_row15_col1 {\n",
              "  width: 10em;\n",
              "  height: 80%;\n",
              "  background: linear-gradient(90deg,#d65f5f 23.5%, transparent 23.5%);\n",
              "}\n",
              "#T_b10a1_row16_col1 {\n",
              "  width: 10em;\n",
              "  height: 80%;\n",
              "}\n",
              "</style>\n",
              "<table id=\"T_b10a1_\" class=\"dataframe\">\n",
              "  <thead>\n",
              "    <tr>\n",
              "      <th class=\"blank level0\" >&nbsp;</th>\n",
              "      <th class=\"col_heading level0 col0\" >col</th>\n",
              "      <th class=\"col_heading level0 col1\" >importance</th>\n",
              "    </tr>\n",
              "  </thead>\n",
              "  <tbody>\n",
              "    <tr>\n",
              "      <th id=\"T_b10a1_level0_row0\" class=\"row_heading level0 row0\" >13</th>\n",
              "      <td id=\"T_b10a1_row0_col0\" class=\"data row0 col0\" >Online boarding</td>\n",
              "      <td id=\"T_b10a1_row0_col1\" class=\"data row0 col1\" >0.078024</td>\n",
              "    </tr>\n",
              "    <tr>\n",
              "      <th id=\"T_b10a1_level0_row1\" class=\"row_heading level0 row1\" >11</th>\n",
              "      <td id=\"T_b10a1_row1_col0\" class=\"data row1 col0\" >Inflight wifi service</td>\n",
              "      <td id=\"T_b10a1_row1_col1\" class=\"data row1 col1\" >0.067863</td>\n",
              "    </tr>\n",
              "    <tr>\n",
              "      <th id=\"T_b10a1_level0_row2\" class=\"row_heading level0 row2\" >1</th>\n",
              "      <td id=\"T_b10a1_row2_col0\" class=\"data row2 col0\" >Checkin service</td>\n",
              "      <td id=\"T_b10a1_row2_col1\" class=\"data row2 col1\" >0.038751</td>\n",
              "    </tr>\n",
              "    <tr>\n",
              "      <th id=\"T_b10a1_level0_row3\" class=\"row_heading level0 row3\" >12</th>\n",
              "      <td id=\"T_b10a1_row3_col0\" class=\"data row3 col0\" >On-board service</td>\n",
              "      <td id=\"T_b10a1_row3_col1\" class=\"data row3 col1\" >0.036711</td>\n",
              "    </tr>\n",
              "    <tr>\n",
              "      <th id=\"T_b10a1_level0_row4\" class=\"row_heading level0 row4\" >3</th>\n",
              "      <td id=\"T_b10a1_row4_col0\" class=\"data row4 col0\" >Cleanliness</td>\n",
              "      <td id=\"T_b10a1_row4_col1\" class=\"data row4 col1\" >0.033735</td>\n",
              "    </tr>\n",
              "    <tr>\n",
              "      <th id=\"T_b10a1_level0_row5\" class=\"row_heading level0 row5\" >15</th>\n",
              "      <td id=\"T_b10a1_row5_col0\" class=\"data row5 col0\" >Seat space</td>\n",
              "      <td id=\"T_b10a1_row5_col1\" class=\"data row5 col1\" >0.032422</td>\n",
              "    </tr>\n",
              "    <tr>\n",
              "      <th id=\"T_b10a1_level0_row6\" class=\"row_heading level0 row6\" >10</th>\n",
              "      <td id=\"T_b10a1_row6_col0\" class=\"data row6 col0\" >Inflight service</td>\n",
              "      <td id=\"T_b10a1_row6_col1\" class=\"data row6 col1\" >0.018757</td>\n",
              "    </tr>\n",
              "    <tr>\n",
              "      <th id=\"T_b10a1_level0_row7\" class=\"row_heading level0 row7\" >8</th>\n",
              "      <td id=\"T_b10a1_row7_col0\" class=\"data row7 col0\" >Gender</td>\n",
              "      <td id=\"T_b10a1_row7_col1\" class=\"data row7 col1\" >0.017823</td>\n",
              "    </tr>\n",
              "    <tr>\n",
              "      <th id=\"T_b10a1_level0_row8\" class=\"row_heading level0 row8\" >0</th>\n",
              "      <td id=\"T_b10a1_row8_col0\" class=\"data row8 col0\" >Baggage handling</td>\n",
              "      <td id=\"T_b10a1_row8_col1\" class=\"data row8 col1\" >0.014453</td>\n",
              "    </tr>\n",
              "    <tr>\n",
              "      <th id=\"T_b10a1_level0_row9\" class=\"row_heading level0 row9\" >9</th>\n",
              "      <td id=\"T_b10a1_row9_col0\" class=\"data row9 col0\" >Inflight entertainment</td>\n",
              "      <td id=\"T_b10a1_row9_col1\" class=\"data row9 col1\" >0.011188</td>\n",
              "    </tr>\n",
              "    <tr>\n",
              "      <th id=\"T_b10a1_level0_row10\" class=\"row_heading level0 row10\" >14</th>\n",
              "      <td id=\"T_b10a1_row10_col0\" class=\"data row10 col0\" >Seat comfort</td>\n",
              "      <td id=\"T_b10a1_row10_col1\" class=\"data row10 col1\" >0.005402</td>\n",
              "    </tr>\n",
              "    <tr>\n",
              "      <th id=\"T_b10a1_level0_row11\" class=\"row_heading level0 row11\" >6</th>\n",
              "      <td id=\"T_b10a1_row11_col0\" class=\"data row11 col0\" >Food and drink</td>\n",
              "      <td id=\"T_b10a1_row11_col1\" class=\"data row11 col1\" >-0.005501</td>\n",
              "    </tr>\n",
              "    <tr>\n",
              "      <th id=\"T_b10a1_level0_row12\" class=\"row_heading level0 row12\" >7</th>\n",
              "      <td id=\"T_b10a1_row12_col0\" class=\"data row12 col0\" >Gate location</td>\n",
              "      <td id=\"T_b10a1_row12_col1\" class=\"data row12 col1\" >-0.008448</td>\n",
              "    </tr>\n",
              "    <tr>\n",
              "      <th id=\"T_b10a1_level0_row13\" class=\"row_heading level0 row13\" >5</th>\n",
              "      <td id=\"T_b10a1_row13_col0\" class=\"data row13 col0\" >Ease of Online booking</td>\n",
              "      <td id=\"T_b10a1_row13_col1\" class=\"data row13 col1\" >-0.048739</td>\n",
              "    </tr>\n",
              "    <tr>\n",
              "      <th id=\"T_b10a1_level0_row14\" class=\"row_heading level0 row14\" >2</th>\n",
              "      <td id=\"T_b10a1_row14_col0\" class=\"data row14 col0\" >Class</td>\n",
              "      <td id=\"T_b10a1_row14_col1\" class=\"data row14 col1\" >-0.077538</td>\n",
              "    </tr>\n",
              "    <tr>\n",
              "      <th id=\"T_b10a1_level0_row15\" class=\"row_heading level0 row15\" >4</th>\n",
              "      <td id=\"T_b10a1_row15_col0\" class=\"data row15 col0\" >Customer Type</td>\n",
              "      <td id=\"T_b10a1_row15_col1\" class=\"data row15 col1\" >-0.304387</td>\n",
              "    </tr>\n",
              "    <tr>\n",
              "      <th id=\"T_b10a1_level0_row16\" class=\"row_heading level0 row16\" >16</th>\n",
              "      <td id=\"T_b10a1_row16_col0\" class=\"data row16 col0\" >Type of Travel</td>\n",
              "      <td id=\"T_b10a1_row16_col1\" class=\"data row16 col1\" >-0.422133</td>\n",
              "    </tr>\n",
              "  </tbody>\n",
              "</table>\n"
            ]
          },
          "metadata": {},
          "execution_count": 94
        }
      ]
    },
    {
      "cell_type": "code",
      "source": [
        "X_test.iloc[0]"
      ],
      "metadata": {
        "colab": {
          "base_uri": "https://localhost:8080/"
        },
        "id": "whWZZwHjZp7p",
        "outputId": "04467359-33ba-454d-dbb4-2d5466ddc05d"
      },
      "execution_count": null,
      "outputs": [
        {
          "output_type": "execute_result",
          "data": {
            "text/plain": [
              "Baggage handling          4\n",
              "Checkin service           5\n",
              "Class                     1\n",
              "Cleanliness               4\n",
              "Customer Type             0\n",
              "Ease of Online booking    3\n",
              "Food and drink            2\n",
              "Gate location             1\n",
              "Gender                    0\n",
              "Inflight entertainment    4\n",
              "Inflight service          4\n",
              "Inflight wifi service     3\n",
              "On-board service          4\n",
              "Online boarding           3\n",
              "Seat comfort              4\n",
              "Seat space                3\n",
              "Type of Travel            1\n",
              "Name: 55974, dtype: int64"
            ]
          },
          "metadata": {},
          "execution_count": 95
        }
      ]
    },
    {
      "cell_type": "markdown",
      "source": [
        "# ***Algoritmos de optimización***\n",
        "\n",
        "---"
      ],
      "metadata": {
        "id": "bIOIY8kuqkC-"
      }
    },
    {
      "cell_type": "code",
      "source": [
        "#Asigno los valores de X e y utilizando el tipo de cliente y la clase en el vuelo como features y la satisfaccion como target\n",
        "X = df2[df2[variables_total].columns.difference(['satisfaction'])]\n",
        "y = df2['satisfaction']"
      ],
      "metadata": {
        "id": "ul68rkgvsJZz"
      },
      "execution_count": null,
      "outputs": []
    },
    {
      "cell_type": "code",
      "source": [
        "#Separacion en X e y\n",
        "y = df2['satisfaction'].to_numpy() \n",
        "X = df2[df2[variables_total].columns.difference(['satisfaction'])].to_numpy()\n",
        "df2.head()"
      ],
      "metadata": {
        "id": "CMb2D-GqrI7G"
      },
      "execution_count": null,
      "outputs": []
    },
    {
      "cell_type": "code",
      "source": [
        "#Dividir Train y Test - StratifiedKFold\n",
        "from sklearn.model_selection import KFold\n",
        "kf_df2 = KFold(n_splits=5, random_state=0, shuffle=True)\n",
        "train_kf, test_kf = list(kf_df2.split(X))[0]\n",
        "\n",
        "X_train_kf = X[train_kf]\n",
        "X_test_kf = X[test_kf]\n",
        "y_train_kf = y[train_kf]\n",
        "y_test_kf = y[test_kf]"
      ],
      "metadata": {
        "id": "yFOJ6MKG0MCb"
      },
      "execution_count": null,
      "outputs": []
    },
    {
      "cell_type": "code",
      "source": [
        "#Dividir Train y Test - StratifiedKFold\n",
        "from sklearn.model_selection import StratifiedKFold\n",
        "skf_df2 = StratifiedKFold(n_splits=5, random_state=0, shuffle=True)\n",
        "train_skf, test_skf = list(skf_df2.split(X, y))[0]\n",
        "\n",
        "X_train_skf = X[train_skf]\n",
        "X_test_skf = X[test_skf]\n",
        "y_train_skf = y[train_skf]\n",
        "y_test_skf = y[test_skf]"
      ],
      "metadata": {
        "id": "mroW8Qsrah09"
      },
      "execution_count": null,
      "outputs": []
    },
    {
      "cell_type": "markdown",
      "source": [
        "*Optimizacion Decision Tree*\n",
        "\n",
        "---"
      ],
      "metadata": {
        "id": "7IH-yZ_LZ5Fq"
      }
    },
    {
      "cell_type": "code",
      "source": [
        "#Entrenar arbol y encontrar el mejor alpha con GridSearchCV, KFold y StratifiedKFold\n",
        "from sklearn.tree import DecisionTreeClassifier\n",
        "from sklearn.model_selection import GridSearchCV\n",
        "\n",
        "clas_dt = DecisionTreeClassifier()\n",
        "par = list(np.arange(0.0, 1., step=0.05))\n",
        "\n",
        "#Uso KFold\n",
        "cv_kf = KFold(n_splits=5, random_state=0, shuffle=True)\n",
        "\n",
        "tunner_kf_dt = GridSearchCV(estimator = clas_dt, param_grid = {'ccp_alpha':par}, cv = cv_kf)\n",
        "_ = tunner_kf_dt.fit(X_train_kf, y_train_kf)\n",
        "\n",
        "print('Decision Tree: \\n')\n",
        "print('Train score KFold: ' + str(tunner_kf_dt.score(X_train_kf, y_train_kf)))\n",
        "print('Test score KFold:  ' + str(tunner_kf_dt.score(X_test_kf, y_test_kf)))\n",
        "\n",
        "\n",
        "#Uso StratifiedKFold\n",
        "cv_skf = StratifiedKFold(n_splits=5, random_state=0, shuffle=True)\n",
        "\n",
        "tunner_skf_dt = GridSearchCV(estimator = clas_dt, param_grid = {'ccp_alpha':par}, cv = cv_skf)\n",
        "_ = tunner_skf_dt.fit(X_train_skf, y_train_skf)\n",
        "\n",
        "print('\\n')\n",
        "print('Train score StratifiedKFold: ' + str(tunner_skf_dt.score(X_train_skf, y_train_skf)))\n",
        "print('Test score StratifiedKFold:  ' + str(tunner_skf_dt.score(X_test_skf, y_test_skf)))"
      ],
      "metadata": {
        "colab": {
          "base_uri": "https://localhost:8080/"
        },
        "id": "y_ks9cOc0zRg",
        "outputId": "c997d4b6-8fc4-4469-8e56-58b118f75de9"
      },
      "execution_count": null,
      "outputs": [
        {
          "output_type": "stream",
          "name": "stdout",
          "text": [
            "Decision Tree: \n",
            "\n",
            "Train score KFold: 1.0\n",
            "Test score KFold:  0.9297536566589685\n",
            "\n",
            "\n",
            "Train score StratifiedKFold: 1.0\n",
            "Test score StratifiedKFold:  0.9357197844495766\n"
          ]
        }
      ]
    },
    {
      "cell_type": "markdown",
      "source": [
        "*Oprimizacion Random Forest*\n",
        "\n",
        "---"
      ],
      "metadata": {
        "id": "-fO-7zAuZ84X"
      }
    },
    {
      "cell_type": "code",
      "source": [
        "#Entrenar el modelo de Random Forest y encontrar el mejor alpha con GridSearchCV y KFold\n",
        "from sklearn.ensemble import RandomForestClassifier\n",
        "from sklearn.model_selection import GridSearchCV\n",
        "\n",
        "clas_rd = RandomForestClassifier()\n",
        "par = list(np.arange(0.0, 1., step=0.05))\n",
        "\n",
        "\n",
        "#Uso KFold\n",
        "cv_kf = KFold(n_splits=5, random_state=0, shuffle=True)\n",
        "\n",
        "tunner_kf_rd = GridSearchCV(estimator = clas_rd, param_grid = {'ccp_alpha':par}, cv = cv_kf)\n",
        "_ = tunner_kf_rd.fit(X_train_kf, y_train_kf)\n",
        "\n",
        "print('Random Forest: \\n')\n",
        "print('Train score KFold: ' + str(tunner_kf_rd.score(X_train_kf, y_train_kf)))\n",
        "print('Test score KFold:  ' + str(tunner_kf_rd.score(X_test_kf, y_test_kf)))\n",
        "\n",
        "\n",
        "#Uso StratifiedKFold\n",
        "cv_skf = StratifiedKFold(n_splits=5, random_state=0, shuffle=True)\n",
        "\n",
        "tunner_skf_rd = GridSearchCV(estimator = clas_rd, param_grid = {'ccp_alpha':par}, cv = cv_skf)\n",
        "_ = tunner_skf_rd.fit(X_train_skf, y_train_skf)\n",
        "\n",
        "print('\\n')\n",
        "print('Train score StratifiedKFold: ' + str(tunner_skf_rd.score(X_train_skf, y_train_skf)))\n",
        "print('Test score StratifiedKFold:  ' + str(tunner_skf_rd.score(X_test_skf, y_test_skf)))"
      ],
      "metadata": {
        "id": "y7GonKyCRBJj",
        "colab": {
          "base_uri": "https://localhost:8080/"
        },
        "outputId": "f1f20a91-8096-4ba2-8d07-31af4f42f4f6"
      },
      "execution_count": null,
      "outputs": [
        {
          "output_type": "stream",
          "name": "stdout",
          "text": [
            "Random Forest: \n",
            "\n",
            "Train score KFold: 1.0\n",
            "Test score KFold:  0.9543879907621247\n",
            "\n",
            "\n",
            "Train score StratifiedKFold: 0.9999518768046198\n",
            "Test score StratifiedKFold:  0.955735180908391\n"
          ]
        }
      ]
    },
    {
      "cell_type": "markdown",
      "source": [
        "El modelo de Random Forest es el que mejor se ajusta a las variables teniendo un score mayor con KFold."
      ],
      "metadata": {
        "id": "KNiDYE-_h4Oz"
      }
    }
  ],
  "metadata": {
    "colab": {
      "name": "Proyecto Final_v3.ipynb",
      "provenance": [],
      "collapsed_sections": []
    },
    "kernelspec": {
      "display_name": "Python 3",
      "name": "python3"
    },
    "language_info": {
      "name": "python"
    }
  },
  "nbformat": 4,
  "nbformat_minor": 0
}